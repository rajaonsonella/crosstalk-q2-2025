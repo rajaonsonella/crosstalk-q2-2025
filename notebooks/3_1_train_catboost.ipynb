{
 "cells": [
  {
   "cell_type": "markdown",
   "metadata": {
    "colab_type": "text",
    "id": "view-in-github"
   },
   "source": [
    "<a href=\"https://colab.research.google.com/github/rajaonsonella/crosstalk-q2-2025/blob/main/notebooks/3_1_train_catboost.ipynb\" target=\"_parent\"><img src=\"https://colab.research.google.com/assets/colab-badge.svg\" alt=\"Open In Colab\"/></a>"
   ]
  },
  {
   "cell_type": "markdown",
   "metadata": {
    "id": "hQP9auNa5Yyg"
   },
   "source": [
    "# Set up\n",
    "\n",
    "⚙️ Step 1: Set your notebook to GPU\n",
    "\n",
    "The next two cells take ~2 min.... start running them now while we talk! 👇👇"
   ]
  },
  {
   "cell_type": "code",
   "execution_count": null,
   "metadata": {
    "colab": {
     "base_uri": "https://localhost:8080/"
    },
    "id": "0MYJ9lwd5Yyi",
    "outputId": "14bb9f4c-82ac-447e-ea4a-bed8aebd0319"
   },
   "outputs": [],
   "source": [
    "# get workshop code\n",
    "import os\n",
    "import sys\n",
    "IN_COLAB = os.getenv(\"COLAB_RELEASE_TAG\")\n",
    "if IN_COLAB:\n",
    "    !git clone https://github.com/rajaonsonella/crosstalk-q2-2025\n",
    "    sys.path.append('./crosstalk-q2-2025')\n",
    "else:\n",
    "    sys.path.append('..')\n",
    "!pip install -r crosstalk-q2-2025/requirements.txt"
   ]
  },
  {
   "cell_type": "code",
   "execution_count": null,
   "metadata": {
    "colab": {
     "base_uri": "https://localhost:8080/"
    },
    "id": "RIDtPhRE5e8I",
    "outputId": "4be5d764-1d99-4db0-8faf-6c5fb54b077d"
   },
   "outputs": [],
   "source": [
    "# Download data from google drive\n",
    "import gdown\n",
    "import os\n",
    "\n",
    "file_ids = {'test_inputs' : '1Gyv_ldUTi0Ymy6wVMfruAO0UraCQ70CR',\n",
    "            'train': '11S5p0QgP1X9rOFiIjNSLydLenJwm7hle'}\n",
    "\n",
    "for name, file_id in file_ids.items():\n",
    "    filename = f'crosstalk_{name}.parquet'\n",
    "    if not os.path.exists(filename):\n",
    "        gdown.download(id=file_id, output=filename, quiet=False)"
   ]
  },
  {
   "cell_type": "markdown",
   "metadata": {
    "id": "QtTgY1VZVyGP"
   },
   "source": [
    "Or, if you have the file located in your drive"
   ]
  },
  {
   "cell_type": "code",
   "execution_count": null,
   "metadata": {
    "colab": {
     "base_uri": "https://localhost:8080/"
    },
    "id": "vUqVczIVVwo3",
    "outputId": "481c90a5-1ffc-4ce1-ed20-991872273ba1"
   },
   "outputs": [],
   "source": [
    "from google.colab import drive\n",
    "drive.mount('/content/drive/')"
   ]
  },
  {
   "cell_type": "markdown",
   "metadata": {
    "id": "8QEKqXK15Yyj"
   },
   "source": [
    "# Load the train datasets\n",
    "\n",
    "See the bonus content from last notebook to get a peek under the hood of the data loaders\n",
    "\n",
    "Or check it out in the files you downloaded to colab on the left 👈"
   ]
  },
  {
   "cell_type": "code",
   "execution_count": null,
   "metadata": {
    "id": "uBO_PAHSEkF8"
   },
   "outputs": [],
   "source": [
    "import pandas as pd\n",
    "import numpy as np\n",
    "from dataset import basic_dataloader"
   ]
  },
  {
   "cell_type": "code",
   "execution_count": null,
   "metadata": {
    "colab": {
     "base_uri": "https://localhost:8080/",
     "height": 49,
     "referenced_widgets": [
      "a26925a7a13d4b7ab07acc2a4f276ca4",
      "45f12c9dd7a94ebda47c5595c4bacb57",
      "8ab0c2de31f54a50ad5079f2ae77990c",
      "a7102d26aee34e02ab913224fab67700",
      "788bedad4a0949c78ac32473927ed588",
      "c7323bf959534e31a9bb360ac7df626a",
      "55361b5f4cb1463b819bbe8b712b0498",
      "49cb5187501e4d8d94ae0f7faed6088a",
      "862244a5b85349ae876de460ba4ec5a8",
      "34709d85b01f449f8d471bb1d1bf5e15",
      "3a826d2d88a044ebb457a980737d9ead"
     ]
    },
    "id": "Eurf4tVS5Yyj",
    "outputId": "0b87a96c-f822-468e-831e-6c95c93ba996"
   },
   "outputs": [],
   "source": [
    "X_train, y_train = basic_dataloader('/content/drive/My Drive/crosstalk_train.parquet', x_col=\"AVALON\", y_col = 'DELLabel', max_to_load=100000) # fingerprints available: 'ATOMPAIR', 'MACCS', 'ECFP6', 'ECFP4', 'FCFP4', 'FCFP6', 'TOPTOR', 'RDK', 'AVALON'"
   ]
  },
  {
   "cell_type": "code",
   "execution_count": null,
   "metadata": {
    "colab": {
     "base_uri": "https://localhost:8080/"
    },
    "id": "2jLnIi8_6szm",
    "outputId": "5d9d55a5-f199-4f5f-f2e8-9aea5c1ca180"
   },
   "outputs": [],
   "source": [
    "X_train.shape"
   ]
  },
  {
   "cell_type": "code",
   "execution_count": null,
   "metadata": {
    "colab": {
     "base_uri": "https://localhost:8080/"
    },
    "id": "Yc65CZG46_jM",
    "outputId": "a5741eed-a3b1-483b-fe81-404460769f80"
   },
   "outputs": [],
   "source": [
    "y_train.shape"
   ]
  },
  {
   "cell_type": "code",
   "execution_count": null,
   "metadata": {
    "colab": {
     "base_uri": "https://localhost:8080/"
    },
    "id": "n526wmlp8Pwn",
    "outputId": "03f5a15d-947d-436f-c142-93bf0d2df87c"
   },
   "outputs": [],
   "source": [
    "print(y_train)"
   ]
  },
  {
   "cell_type": "markdown",
   "metadata": {
    "id": "5766Us825Yyk"
   },
   "source": [
    "# Let's train catboost classifier and see how well it fits the training data"
   ]
  },
  {
   "cell_type": "markdown",
   "metadata": {
    "id": "x3S2HQif7f97"
   },
   "source": [
    "🐞 do you see a CUDA error? raise your hand now and brag about it"
   ]
  },
  {
   "cell_type": "code",
   "execution_count": null,
   "metadata": {
    "colab": {
     "base_uri": "https://localhost:8080/"
    },
    "id": "Peao1Ylc5Yyl",
    "outputId": "fd7e4136-01e6-42ed-afb4-495de2daccec"
   },
   "outputs": [],
   "source": [
    "%%time\n",
    "import catboost as cb\n",
    "from eval import BinaryEvaluator\n",
    "params = {\n",
    "                'random_strength': 2, # only non-default hyperparam, default is 1\n",
    "                'random_seed': 1234,\n",
    "                'verbose': 0,\n",
    "                'loss_function': 'Logloss',\n",
    "                'task_type': 'GPU',\n",
    "                'devices': '0'\n",
    "            }\n",
    "model = cb.CatBoostClassifier(**params)\n",
    "model.fit(X_train, y_train)\n",
    "yp = model.predict_proba(X_train)[:, 1] # or validation"
   ]
  },
  {
   "cell_type": "code",
   "execution_count": null,
   "metadata": {
    "id": "qPNuDMjgZR9G"
   },
   "outputs": [],
   "source": [
    "eval = BinaryEvaluator(X_train, y_train)\n",
    "metric_dict = eval.compute_metrics(yt=y_train, yp=yp) # or validation"
   ]
  },
  {
   "cell_type": "code",
   "execution_count": null,
   "metadata": {
    "colab": {
     "base_uri": "https://localhost:8080/"
    },
    "id": "waTE3Hl99cPX",
    "outputId": "c542ead0-2f79-4a89-b875-b45e1f5ea648"
   },
   "outputs": [],
   "source": [
    "for metric_name, metric_value in metric_dict.items():\n",
    "    print(f'{metric_name:20s}: {metric_value:.2f}')"
   ]
  },
  {
   "cell_type": "markdown",
   "metadata": {
    "id": "knDqyMms5Yyl"
   },
   "source": [
    "# How well does it generalize though? Let's try 5-fold cross-validation"
   ]
  },
  {
   "cell_type": "code",
   "execution_count": null,
   "metadata": {
    "colab": {
     "base_uri": "https://localhost:8080/"
    },
    "id": "0_-ubHP85Yyl",
    "outputId": "c7d796cf-892e-4f18-e722-6ec440fa4a9e"
   },
   "outputs": [],
   "source": [
    "%%time\n",
    "model_cv = cb.CatBoostClassifier(**params)\n",
    "metric_dict_cv = eval.CV_model(model_cv)"
   ]
  },
  {
   "cell_type": "code",
   "execution_count": null,
   "metadata": {
    "colab": {
     "base_uri": "https://localhost:8080/"
    },
    "id": "lvxp6AWI_cQ4",
    "outputId": "78b119e5-76e4-43ad-d67f-8fb7dc7fbdcf"
   },
   "outputs": [],
   "source": [
    "for metric_name, metric_value in metric_dict_cv['mean'].items():\n",
    "    print(f'{metric_name:20s}: {metric_value:.2f}')"
   ]
  },
  {
   "cell_type": "markdown",
   "metadata": {
    "id": "Ob58G6gM5Yyn"
   },
   "source": [
    "# Submit predictions"
   ]
  },
  {
   "cell_type": "markdown",
   "metadata": {
    "id": "XWfg9wXOB4SV"
   },
   "source": [
    "Update the next cell with your team name"
   ]
  },
  {
   "cell_type": "code",
   "execution_count": null,
   "metadata": {
    "id": "V3Y1583bB0og"
   },
   "outputs": [],
   "source": [
    "team_name = 'demo'"
   ]
  },
  {
   "cell_type": "code",
   "execution_count": null,
   "metadata": {
    "colab": {
     "base_uri": "https://localhost:8080/",
     "height": 102,
     "referenced_widgets": [
      "8ca2f8df55e64813b7e0320f8a0f4c5c",
      "33d43cc4897640a781042d5956d87022",
      "2b1e58afb3c64e2b9114426b4fbb5c26",
      "3e8c0df703b545b8bf1ea4bbfd6218c8",
      "08502788c40f43bcb24bfa65033c1a79",
      "e2e0fe28e5104ca6a593351aa23da872",
      "d90a84dc0f84406981a4af1ef3e7a0c0",
      "076febdd547c413f83f33a761ac39132",
      "0dd2cab2f8cd4e94a5a0beefef20cd60",
      "c12a9384153f48339ccfbdefd72e20c4",
      "e83912b92d0841029b6f8262213965cc"
     ]
    },
    "id": "340_MENj5Yyn",
    "outputId": "2e87bca8-d9a3-467e-9472-ba7d5246ec92"
   },
   "outputs": [],
   "source": [
    "%%time\n",
    "X_test = basic_dataloader('/content/drive/My Drive/crosstalk_test_inputs.parquet', x_col=\"AVALON\", y_col = None, max_to_load = None, chunk_size = 20000)"
   ]
  },
  {
   "cell_type": "code",
   "execution_count": null,
   "metadata": {
    "colab": {
     "base_uri": "https://localhost:8080/"
    },
    "id": "tRoWNPsCFojt",
    "outputId": "012f2a02-e18a-4e61-b0b4-e40da3b0afe7"
   },
   "outputs": [],
   "source": [
    "X_test.shape"
   ]
  },
  {
   "cell_type": "code",
   "execution_count": null,
   "metadata": {
    "id": "deBOnd6xCE01"
   },
   "outputs": [],
   "source": [
    "yp = model.predict_proba(X_test)[:,1]"
   ]
  },
  {
   "cell_type": "markdown",
   "metadata": {
    "id": "tTd-5y9AYisH"
   },
   "source": [
    "Upload this baseline to kaggle and check out the leaderboard!"
   ]
  },
  {
   "cell_type": "code",
   "execution_count": null,
   "metadata": {
    "id": "mVBvnHsRiFeM"
   },
   "outputs": [],
   "source": [
    "import pyarrow as pa\n",
    "from pyarrow import parquet as pq"
   ]
  },
  {
   "cell_type": "code",
   "execution_count": null,
   "metadata": {
    "id": "gqhhz-IVh8PK"
   },
   "outputs": [],
   "source": [
    "pf = pq.ParquetFile('/content/drive/My Drive/crosstalk_test_inputs.parquet')"
   ]
  },
  {
   "cell_type": "code",
   "execution_count": null,
   "metadata": {
    "colab": {
     "base_uri": "https://localhost:8080/",
     "height": 423
    },
    "id": "FBCiwuXriQ4J",
    "outputId": "08992676-807e-4d73-b246-d7d04390fcf6"
   },
   "outputs": [],
   "source": [
    "preds = pf.read(columns = ['RandomID']).to_pandas()\n",
    "preds['DELLabel'] = yp\n",
    "display(preds)"
   ]
  },
  {
   "cell_type": "code",
   "execution_count": null,
   "metadata": {
    "id": "enLD8sg7btNE"
   },
   "outputs": [],
   "source": [
    "preds.to_csv(f'{team_name}.csv', index=False)"
   ]
  },
  {
   "cell_type": "markdown",
   "metadata": {
    "id": "XbbpQ2GM5Yyl"
   },
   "source": [
    "# Let's compare it against some sklearn baselines"
   ]
  },
  {
   "cell_type": "markdown",
   "metadata": {
    "id": "bztUGo6eAYf9"
   },
   "source": [
    "⚠️ these next cells are slow to run! Start them now and come back in 5 minutes"
   ]
  },
  {
   "cell_type": "code",
   "execution_count": null,
   "metadata": {
    "colab": {
     "base_uri": "https://localhost:8080/",
     "height": 125
    },
    "id": "FzqCfWDX5Yym",
    "outputId": "f9fa82bd-feda-49e0-9998-db01db8c13af"
   },
   "outputs": [],
   "source": [
    "%%time\n",
    "from eval import get_baseline_models\n",
    "\n",
    "eval = BinaryEvaluator(X_train, y_train)\n",
    "baselines = get_baseline_models()\n",
    "baselines_res = {}\n",
    "\n",
    "for m in baselines:\n",
    "    baselines_res[m] = eval.CV_model(baselines[m])"
   ]
  },
  {
   "cell_type": "code",
   "execution_count": null,
   "metadata": {
    "id": "TPzHpmOrAirD"
   },
   "outputs": [],
   "source": [
    "# display all the models results\n",
    "baselines_res.update({'catboost': metric_dict_cv})\n",
    "pd.DataFrame({model: metrics['mean'] for model, metrics in baselines_res.items()}).T.round(2)"
   ]
  }
 ],
 "metadata": {
  "accelerator": "GPU",
  "colab": {
   "gpuType": "T4",
   "include_colab_link": true,
   "provenance": []
  },
  "kernelspec": {
   "display_name": "cuda_env",
   "language": "python",
   "name": "cuda_env"
  },
  "widgets": {
   "application/vnd.jupyter.widget-state+json": {
    "076febdd547c413f83f33a761ac39132": {
     "model_module": "@jupyter-widgets/base",
     "model_module_version": "1.2.0",
     "model_name": "LayoutModel",
     "state": {
      "_model_module": "@jupyter-widgets/base",
      "_model_module_version": "1.2.0",
      "_model_name": "LayoutModel",
      "_view_count": null,
      "_view_module": "@jupyter-widgets/base",
      "_view_module_version": "1.2.0",
      "_view_name": "LayoutView",
      "align_content": null,
      "align_items": null,
      "align_self": null,
      "border": null,
      "bottom": null,
      "display": null,
      "flex": null,
      "flex_flow": null,
      "grid_area": null,
      "grid_auto_columns": null,
      "grid_auto_flow": null,
      "grid_auto_rows": null,
      "grid_column": null,
      "grid_gap": null,
      "grid_row": null,
      "grid_template_areas": null,
      "grid_template_columns": null,
      "grid_template_rows": null,
      "height": null,
      "justify_content": null,
      "justify_items": null,
      "left": null,
      "margin": null,
      "max_height": null,
      "max_width": null,
      "min_height": null,
      "min_width": null,
      "object_fit": null,
      "object_position": null,
      "order": null,
      "overflow": null,
      "overflow_x": null,
      "overflow_y": null,
      "padding": null,
      "right": null,
      "top": null,
      "visibility": null,
      "width": null
     }
    },
    "08502788c40f43bcb24bfa65033c1a79": {
     "model_module": "@jupyter-widgets/base",
     "model_module_version": "1.2.0",
     "model_name": "LayoutModel",
     "state": {
      "_model_module": "@jupyter-widgets/base",
      "_model_module_version": "1.2.0",
      "_model_name": "LayoutModel",
      "_view_count": null,
      "_view_module": "@jupyter-widgets/base",
      "_view_module_version": "1.2.0",
      "_view_name": "LayoutView",
      "align_content": null,
      "align_items": null,
      "align_self": null,
      "border": null,
      "bottom": null,
      "display": null,
      "flex": null,
      "flex_flow": null,
      "grid_area": null,
      "grid_auto_columns": null,
      "grid_auto_flow": null,
      "grid_auto_rows": null,
      "grid_column": null,
      "grid_gap": null,
      "grid_row": null,
      "grid_template_areas": null,
      "grid_template_columns": null,
      "grid_template_rows": null,
      "height": null,
      "justify_content": null,
      "justify_items": null,
      "left": null,
      "margin": null,
      "max_height": null,
      "max_width": null,
      "min_height": null,
      "min_width": null,
      "object_fit": null,
      "object_position": null,
      "order": null,
      "overflow": null,
      "overflow_x": null,
      "overflow_y": null,
      "padding": null,
      "right": null,
      "top": null,
      "visibility": null,
      "width": null
     }
    },
    "0dd2cab2f8cd4e94a5a0beefef20cd60": {
     "model_module": "@jupyter-widgets/controls",
     "model_module_version": "1.5.0",
     "model_name": "ProgressStyleModel",
     "state": {
      "_model_module": "@jupyter-widgets/controls",
      "_model_module_version": "1.5.0",
      "_model_name": "ProgressStyleModel",
      "_view_count": null,
      "_view_module": "@jupyter-widgets/base",
      "_view_module_version": "1.2.0",
      "_view_name": "StyleView",
      "bar_color": null,
      "description_width": ""
     }
    },
    "2b1e58afb3c64e2b9114426b4fbb5c26": {
     "model_module": "@jupyter-widgets/controls",
     "model_module_version": "1.5.0",
     "model_name": "FloatProgressModel",
     "state": {
      "_dom_classes": [],
      "_model_module": "@jupyter-widgets/controls",
      "_model_module_version": "1.5.0",
      "_model_name": "FloatProgressModel",
      "_view_count": null,
      "_view_module": "@jupyter-widgets/controls",
      "_view_module_version": "1.5.0",
      "_view_name": "ProgressView",
      "bar_style": "success",
      "description": "",
      "description_tooltip": null,
      "layout": "IPY_MODEL_076febdd547c413f83f33a761ac39132",
      "max": 17,
      "min": 0,
      "orientation": "horizontal",
      "style": "IPY_MODEL_0dd2cab2f8cd4e94a5a0beefef20cd60",
      "value": 17
     }
    },
    "33d43cc4897640a781042d5956d87022": {
     "model_module": "@jupyter-widgets/controls",
     "model_module_version": "1.5.0",
     "model_name": "HTMLModel",
     "state": {
      "_dom_classes": [],
      "_model_module": "@jupyter-widgets/controls",
      "_model_module_version": "1.5.0",
      "_model_name": "HTMLModel",
      "_view_count": null,
      "_view_module": "@jupyter-widgets/controls",
      "_view_module_version": "1.5.0",
      "_view_name": "HTMLView",
      "description": "",
      "description_tooltip": null,
      "layout": "IPY_MODEL_e2e0fe28e5104ca6a593351aa23da872",
      "placeholder": "​",
      "style": "IPY_MODEL_d90a84dc0f84406981a4af1ef3e7a0c0",
      "value": "Loading chunks: 100%"
     }
    },
    "34709d85b01f449f8d471bb1d1bf5e15": {
     "model_module": "@jupyter-widgets/base",
     "model_module_version": "1.2.0",
     "model_name": "LayoutModel",
     "state": {
      "_model_module": "@jupyter-widgets/base",
      "_model_module_version": "1.2.0",
      "_model_name": "LayoutModel",
      "_view_count": null,
      "_view_module": "@jupyter-widgets/base",
      "_view_module_version": "1.2.0",
      "_view_name": "LayoutView",
      "align_content": null,
      "align_items": null,
      "align_self": null,
      "border": null,
      "bottom": null,
      "display": null,
      "flex": null,
      "flex_flow": null,
      "grid_area": null,
      "grid_auto_columns": null,
      "grid_auto_flow": null,
      "grid_auto_rows": null,
      "grid_column": null,
      "grid_gap": null,
      "grid_row": null,
      "grid_template_areas": null,
      "grid_template_columns": null,
      "grid_template_rows": null,
      "height": null,
      "justify_content": null,
      "justify_items": null,
      "left": null,
      "margin": null,
      "max_height": null,
      "max_width": null,
      "min_height": null,
      "min_width": null,
      "object_fit": null,
      "object_position": null,
      "order": null,
      "overflow": null,
      "overflow_x": null,
      "overflow_y": null,
      "padding": null,
      "right": null,
      "top": null,
      "visibility": null,
      "width": null
     }
    },
    "3a826d2d88a044ebb457a980737d9ead": {
     "model_module": "@jupyter-widgets/controls",
     "model_module_version": "1.5.0",
     "model_name": "DescriptionStyleModel",
     "state": {
      "_model_module": "@jupyter-widgets/controls",
      "_model_module_version": "1.5.0",
      "_model_name": "DescriptionStyleModel",
      "_view_count": null,
      "_view_module": "@jupyter-widgets/base",
      "_view_module_version": "1.2.0",
      "_view_name": "StyleView",
      "description_width": ""
     }
    },
    "3e8c0df703b545b8bf1ea4bbfd6218c8": {
     "model_module": "@jupyter-widgets/controls",
     "model_module_version": "1.5.0",
     "model_name": "HTMLModel",
     "state": {
      "_dom_classes": [],
      "_model_module": "@jupyter-widgets/controls",
      "_model_module_version": "1.5.0",
      "_model_name": "HTMLModel",
      "_view_count": null,
      "_view_module": "@jupyter-widgets/controls",
      "_view_module_version": "1.5.0",
      "_view_name": "HTMLView",
      "description": "",
      "description_tooltip": null,
      "layout": "IPY_MODEL_c12a9384153f48339ccfbdefd72e20c4",
      "placeholder": "​",
      "style": "IPY_MODEL_e83912b92d0841029b6f8262213965cc",
      "value": " 17/17 [03:30&lt;00:00, 12.12s/it]"
     }
    },
    "45f12c9dd7a94ebda47c5595c4bacb57": {
     "model_module": "@jupyter-widgets/controls",
     "model_module_version": "1.5.0",
     "model_name": "HTMLModel",
     "state": {
      "_dom_classes": [],
      "_model_module": "@jupyter-widgets/controls",
      "_model_module_version": "1.5.0",
      "_model_name": "HTMLModel",
      "_view_count": null,
      "_view_module": "@jupyter-widgets/controls",
      "_view_module_version": "1.5.0",
      "_view_name": "HTMLView",
      "description": "",
      "description_tooltip": null,
      "layout": "IPY_MODEL_c7323bf959534e31a9bb360ac7df626a",
      "placeholder": "​",
      "style": "IPY_MODEL_55361b5f4cb1463b819bbe8b712b0498",
      "value": "Loading chunks: 100%"
     }
    },
    "49cb5187501e4d8d94ae0f7faed6088a": {
     "model_module": "@jupyter-widgets/base",
     "model_module_version": "1.2.0",
     "model_name": "LayoutModel",
     "state": {
      "_model_module": "@jupyter-widgets/base",
      "_model_module_version": "1.2.0",
      "_model_name": "LayoutModel",
      "_view_count": null,
      "_view_module": "@jupyter-widgets/base",
      "_view_module_version": "1.2.0",
      "_view_name": "LayoutView",
      "align_content": null,
      "align_items": null,
      "align_self": null,
      "border": null,
      "bottom": null,
      "display": null,
      "flex": null,
      "flex_flow": null,
      "grid_area": null,
      "grid_auto_columns": null,
      "grid_auto_flow": null,
      "grid_auto_rows": null,
      "grid_column": null,
      "grid_gap": null,
      "grid_row": null,
      "grid_template_areas": null,
      "grid_template_columns": null,
      "grid_template_rows": null,
      "height": null,
      "justify_content": null,
      "justify_items": null,
      "left": null,
      "margin": null,
      "max_height": null,
      "max_width": null,
      "min_height": null,
      "min_width": null,
      "object_fit": null,
      "object_position": null,
      "order": null,
      "overflow": null,
      "overflow_x": null,
      "overflow_y": null,
      "padding": null,
      "right": null,
      "top": null,
      "visibility": null,
      "width": null
     }
    },
    "55361b5f4cb1463b819bbe8b712b0498": {
     "model_module": "@jupyter-widgets/controls",
     "model_module_version": "1.5.0",
     "model_name": "DescriptionStyleModel",
     "state": {
      "_model_module": "@jupyter-widgets/controls",
      "_model_module_version": "1.5.0",
      "_model_name": "DescriptionStyleModel",
      "_view_count": null,
      "_view_module": "@jupyter-widgets/base",
      "_view_module_version": "1.2.0",
      "_view_name": "StyleView",
      "description_width": ""
     }
    },
    "788bedad4a0949c78ac32473927ed588": {
     "model_module": "@jupyter-widgets/base",
     "model_module_version": "1.2.0",
     "model_name": "LayoutModel",
     "state": {
      "_model_module": "@jupyter-widgets/base",
      "_model_module_version": "1.2.0",
      "_model_name": "LayoutModel",
      "_view_count": null,
      "_view_module": "@jupyter-widgets/base",
      "_view_module_version": "1.2.0",
      "_view_name": "LayoutView",
      "align_content": null,
      "align_items": null,
      "align_self": null,
      "border": null,
      "bottom": null,
      "display": null,
      "flex": null,
      "flex_flow": null,
      "grid_area": null,
      "grid_auto_columns": null,
      "grid_auto_flow": null,
      "grid_auto_rows": null,
      "grid_column": null,
      "grid_gap": null,
      "grid_row": null,
      "grid_template_areas": null,
      "grid_template_columns": null,
      "grid_template_rows": null,
      "height": null,
      "justify_content": null,
      "justify_items": null,
      "left": null,
      "margin": null,
      "max_height": null,
      "max_width": null,
      "min_height": null,
      "min_width": null,
      "object_fit": null,
      "object_position": null,
      "order": null,
      "overflow": null,
      "overflow_x": null,
      "overflow_y": null,
      "padding": null,
      "right": null,
      "top": null,
      "visibility": null,
      "width": null
     }
    },
    "862244a5b85349ae876de460ba4ec5a8": {
     "model_module": "@jupyter-widgets/controls",
     "model_module_version": "1.5.0",
     "model_name": "ProgressStyleModel",
     "state": {
      "_model_module": "@jupyter-widgets/controls",
      "_model_module_version": "1.5.0",
      "_model_name": "ProgressStyleModel",
      "_view_count": null,
      "_view_module": "@jupyter-widgets/base",
      "_view_module_version": "1.2.0",
      "_view_name": "StyleView",
      "bar_color": null,
      "description_width": ""
     }
    },
    "8ab0c2de31f54a50ad5079f2ae77990c": {
     "model_module": "@jupyter-widgets/controls",
     "model_module_version": "1.5.0",
     "model_name": "FloatProgressModel",
     "state": {
      "_dom_classes": [],
      "_model_module": "@jupyter-widgets/controls",
      "_model_module_version": "1.5.0",
      "_model_name": "FloatProgressModel",
      "_view_count": null,
      "_view_module": "@jupyter-widgets/controls",
      "_view_module_version": "1.5.0",
      "_view_name": "ProgressView",
      "bar_style": "success",
      "description": "",
      "description_tooltip": null,
      "layout": "IPY_MODEL_49cb5187501e4d8d94ae0f7faed6088a",
      "max": 20,
      "min": 0,
      "orientation": "horizontal",
      "style": "IPY_MODEL_862244a5b85349ae876de460ba4ec5a8",
      "value": 20
     }
    },
    "8ca2f8df55e64813b7e0320f8a0f4c5c": {
     "model_module": "@jupyter-widgets/controls",
     "model_module_version": "1.5.0",
     "model_name": "HBoxModel",
     "state": {
      "_dom_classes": [],
      "_model_module": "@jupyter-widgets/controls",
      "_model_module_version": "1.5.0",
      "_model_name": "HBoxModel",
      "_view_count": null,
      "_view_module": "@jupyter-widgets/controls",
      "_view_module_version": "1.5.0",
      "_view_name": "HBoxView",
      "box_style": "",
      "children": [
       "IPY_MODEL_33d43cc4897640a781042d5956d87022",
       "IPY_MODEL_2b1e58afb3c64e2b9114426b4fbb5c26",
       "IPY_MODEL_3e8c0df703b545b8bf1ea4bbfd6218c8"
      ],
      "layout": "IPY_MODEL_08502788c40f43bcb24bfa65033c1a79"
     }
    },
    "a26925a7a13d4b7ab07acc2a4f276ca4": {
     "model_module": "@jupyter-widgets/controls",
     "model_module_version": "1.5.0",
     "model_name": "HBoxModel",
     "state": {
      "_dom_classes": [],
      "_model_module": "@jupyter-widgets/controls",
      "_model_module_version": "1.5.0",
      "_model_name": "HBoxModel",
      "_view_count": null,
      "_view_module": "@jupyter-widgets/controls",
      "_view_module_version": "1.5.0",
      "_view_name": "HBoxView",
      "box_style": "",
      "children": [
       "IPY_MODEL_45f12c9dd7a94ebda47c5595c4bacb57",
       "IPY_MODEL_8ab0c2de31f54a50ad5079f2ae77990c",
       "IPY_MODEL_a7102d26aee34e02ab913224fab67700"
      ],
      "layout": "IPY_MODEL_788bedad4a0949c78ac32473927ed588"
     }
    },
    "a7102d26aee34e02ab913224fab67700": {
     "model_module": "@jupyter-widgets/controls",
     "model_module_version": "1.5.0",
     "model_name": "HTMLModel",
     "state": {
      "_dom_classes": [],
      "_model_module": "@jupyter-widgets/controls",
      "_model_module_version": "1.5.0",
      "_model_name": "HTMLModel",
      "_view_count": null,
      "_view_module": "@jupyter-widgets/controls",
      "_view_module_version": "1.5.0",
      "_view_name": "HTMLView",
      "description": "",
      "description_tooltip": null,
      "layout": "IPY_MODEL_34709d85b01f449f8d471bb1d1bf5e15",
      "placeholder": "​",
      "style": "IPY_MODEL_3a826d2d88a044ebb457a980737d9ead",
      "value": " 20/20 [01:07&lt;00:00,  2.91s/it]"
     }
    },
    "c12a9384153f48339ccfbdefd72e20c4": {
     "model_module": "@jupyter-widgets/base",
     "model_module_version": "1.2.0",
     "model_name": "LayoutModel",
     "state": {
      "_model_module": "@jupyter-widgets/base",
      "_model_module_version": "1.2.0",
      "_model_name": "LayoutModel",
      "_view_count": null,
      "_view_module": "@jupyter-widgets/base",
      "_view_module_version": "1.2.0",
      "_view_name": "LayoutView",
      "align_content": null,
      "align_items": null,
      "align_self": null,
      "border": null,
      "bottom": null,
      "display": null,
      "flex": null,
      "flex_flow": null,
      "grid_area": null,
      "grid_auto_columns": null,
      "grid_auto_flow": null,
      "grid_auto_rows": null,
      "grid_column": null,
      "grid_gap": null,
      "grid_row": null,
      "grid_template_areas": null,
      "grid_template_columns": null,
      "grid_template_rows": null,
      "height": null,
      "justify_content": null,
      "justify_items": null,
      "left": null,
      "margin": null,
      "max_height": null,
      "max_width": null,
      "min_height": null,
      "min_width": null,
      "object_fit": null,
      "object_position": null,
      "order": null,
      "overflow": null,
      "overflow_x": null,
      "overflow_y": null,
      "padding": null,
      "right": null,
      "top": null,
      "visibility": null,
      "width": null
     }
    },
    "c7323bf959534e31a9bb360ac7df626a": {
     "model_module": "@jupyter-widgets/base",
     "model_module_version": "1.2.0",
     "model_name": "LayoutModel",
     "state": {
      "_model_module": "@jupyter-widgets/base",
      "_model_module_version": "1.2.0",
      "_model_name": "LayoutModel",
      "_view_count": null,
      "_view_module": "@jupyter-widgets/base",
      "_view_module_version": "1.2.0",
      "_view_name": "LayoutView",
      "align_content": null,
      "align_items": null,
      "align_self": null,
      "border": null,
      "bottom": null,
      "display": null,
      "flex": null,
      "flex_flow": null,
      "grid_area": null,
      "grid_auto_columns": null,
      "grid_auto_flow": null,
      "grid_auto_rows": null,
      "grid_column": null,
      "grid_gap": null,
      "grid_row": null,
      "grid_template_areas": null,
      "grid_template_columns": null,
      "grid_template_rows": null,
      "height": null,
      "justify_content": null,
      "justify_items": null,
      "left": null,
      "margin": null,
      "max_height": null,
      "max_width": null,
      "min_height": null,
      "min_width": null,
      "object_fit": null,
      "object_position": null,
      "order": null,
      "overflow": null,
      "overflow_x": null,
      "overflow_y": null,
      "padding": null,
      "right": null,
      "top": null,
      "visibility": null,
      "width": null
     }
    },
    "d90a84dc0f84406981a4af1ef3e7a0c0": {
     "model_module": "@jupyter-widgets/controls",
     "model_module_version": "1.5.0",
     "model_name": "DescriptionStyleModel",
     "state": {
      "_model_module": "@jupyter-widgets/controls",
      "_model_module_version": "1.5.0",
      "_model_name": "DescriptionStyleModel",
      "_view_count": null,
      "_view_module": "@jupyter-widgets/base",
      "_view_module_version": "1.2.0",
      "_view_name": "StyleView",
      "description_width": ""
     }
    },
    "e2e0fe28e5104ca6a593351aa23da872": {
     "model_module": "@jupyter-widgets/base",
     "model_module_version": "1.2.0",
     "model_name": "LayoutModel",
     "state": {
      "_model_module": "@jupyter-widgets/base",
      "_model_module_version": "1.2.0",
      "_model_name": "LayoutModel",
      "_view_count": null,
      "_view_module": "@jupyter-widgets/base",
      "_view_module_version": "1.2.0",
      "_view_name": "LayoutView",
      "align_content": null,
      "align_items": null,
      "align_self": null,
      "border": null,
      "bottom": null,
      "display": null,
      "flex": null,
      "flex_flow": null,
      "grid_area": null,
      "grid_auto_columns": null,
      "grid_auto_flow": null,
      "grid_auto_rows": null,
      "grid_column": null,
      "grid_gap": null,
      "grid_row": null,
      "grid_template_areas": null,
      "grid_template_columns": null,
      "grid_template_rows": null,
      "height": null,
      "justify_content": null,
      "justify_items": null,
      "left": null,
      "margin": null,
      "max_height": null,
      "max_width": null,
      "min_height": null,
      "min_width": null,
      "object_fit": null,
      "object_position": null,
      "order": null,
      "overflow": null,
      "overflow_x": null,
      "overflow_y": null,
      "padding": null,
      "right": null,
      "top": null,
      "visibility": null,
      "width": null
     }
    },
    "e83912b92d0841029b6f8262213965cc": {
     "model_module": "@jupyter-widgets/controls",
     "model_module_version": "1.5.0",
     "model_name": "DescriptionStyleModel",
     "state": {
      "_model_module": "@jupyter-widgets/controls",
      "_model_module_version": "1.5.0",
      "_model_name": "DescriptionStyleModel",
      "_view_count": null,
      "_view_module": "@jupyter-widgets/base",
      "_view_module_version": "1.2.0",
      "_view_name": "StyleView",
      "description_width": ""
     }
    }
   }
  }
 },
 "nbformat": 4,
 "nbformat_minor": 0
}
