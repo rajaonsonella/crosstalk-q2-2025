{
 "cells": [
  {
   "cell_type": "markdown",
   "metadata": {
    "colab_type": "text",
    "id": "view-in-github"
   },
   "source": [
    "<a href=\"https://colab.research.google.com/github/rajaonsonella/crosstalk-q2-2025/blob/main/notebooks/3_1_train_catboost.ipynb\" target=\"_parent\"><img src=\"https://colab.research.google.com/assets/colab-badge.svg\" alt=\"Open In Colab\"/></a>"
   ]
  },
  {
   "cell_type": "markdown",
   "metadata": {
    "id": "hQP9auNa5Yyg"
   },
   "source": [
    "# Set up\n",
    "\n",
    "⚙️ Step 1: Set your notebook to GPU\n",
    "\n",
    "The next two cells take ~2 min.... start running them now while we talk! 👇👇"
   ]
  },
  {
   "cell_type": "code",
   "execution_count": null,
   "metadata": {
    "colab": {
     "base_uri": "https://localhost:8080/"
    },
    "id": "0MYJ9lwd5Yyi",
    "outputId": "1d78f1a6-b02a-4c20-ba5f-d4d3894a9ab6"
   },
   "outputs": [],
   "source": [
    "# get workshop code\n",
    "import os\n",
    "import sys\n",
    "IN_COLAB = os.getenv(\"COLAB_RELEASE_TAG\")\n",
    "if IN_COLAB:\n",
    "    !git clone https://github.com/rajaonsonella/crosstalk-q2-2025\n",
    "    sys.path.append('./crosstalk-q2-2025')\n",
    "else:\n",
    "    sys.path.append('..')\n",
    "!pip install -r crosstalk-q2-2025/requirements.txt"
   ]
  },
  {
   "cell_type": "code",
   "execution_count": null,
   "metadata": {
    "colab": {
     "base_uri": "https://localhost:8080/"
    },
    "id": "RIDtPhRE5e8I",
    "outputId": "d47b059d-c6f4-4836-e3d4-6550e0e6e596"
   },
   "outputs": [],
   "source": [
    "# Download data from google drive\n",
    "import gdown\n",
    "import os\n",
    "\n",
    "file_ids = {'test' : '19oR_A2UNUvy7pyL3J11oixkmF1m-bZBl',\n",
    "            'train':'11S5p0QgP1X9rOFiIjNSLydLenJwm7hle'}\n",
    "\n",
    "for name, file_id in file_ids.items():\n",
    "    filename = f'crosstalk_{name}.parquet'\n",
    "    if not os.path.exists(filename):\n",
    "        gdown.download(id=file_id, output=filename, quiet=False)"
   ]
  },
  {
   "cell_type": "markdown",
   "metadata": {
    "id": "8QEKqXK15Yyj"
   },
   "source": [
    "# Load the train datasets\n",
    "\n",
    "See the bonus content from last notebook to get a peek under the hood of the data loaders\n",
    "\n",
    "Or check it out in the files you downloaded to colab on the left 👈"
   ]
  },
  {
   "cell_type": "code",
   "execution_count": null,
   "metadata": {
    "id": "uBO_PAHSEkF8"
   },
   "outputs": [],
   "source": [
    "import pandas as pd\n",
    "import numpy as np\n",
    "from dataset import basic_dataloader"
   ]
  },
  {
   "cell_type": "code",
   "execution_count": null,
   "metadata": {
    "colab": {
     "base_uri": "https://localhost:8080/",
     "height": 49,
     "referenced_widgets": [
      "736f87ed1bbd4be082ac98f7986d5653",
      "495df25b4d7a4aa7b50f3812d4453001",
      "20e5fb92325744ebae2145f731743bfb",
      "3219517a41244cd2b6c1b7fa07a9190a",
      "6526348a49f1426b89abc5bfd22a2b60",
      "2482a8e85b5f48ba81a29c4edfe70805",
      "6e649acb1fe44a57a8e2204edbd29a5c",
      "67149d336fb845fd81a9d490432683db",
      "4b8242bf476f431586390fc0b6bb7d6d",
      "ca1a0e5f9c3b4309bc555e5d305d4d95",
      "055b3d0666c744cb81b690008b148542"
     ]
    },
    "id": "Eurf4tVS5Yyj",
    "outputId": "d2ad01bd-8a6a-44d3-f995-855edfee43b4"
   },
   "outputs": [],
   "source": [
    "X_train, y_train = basic_dataloader('crosstalk_train.parquet', x_col=\"AVALON\", y_col = 'DELLabel', max_to_load=1000) # fingerprints available: 'ATOMPAIR', 'MACCS', 'ECFP6', 'ECFP4', 'FCFP4', 'FCFP6', 'TOPTOR', 'RDK', 'AVALON'"
   ]
  },
  {
   "cell_type": "code",
   "execution_count": null,
   "metadata": {
    "colab": {
     "base_uri": "https://localhost:8080/"
    },
    "id": "2jLnIi8_6szm",
    "outputId": "97affb6a-de1d-47d9-d7e3-372248f8e124"
   },
   "outputs": [],
   "source": [
    "X_train.shape"
   ]
  },
  {
   "cell_type": "code",
   "execution_count": null,
   "metadata": {
    "colab": {
     "base_uri": "https://localhost:8080/"
    },
    "id": "Yc65CZG46_jM",
    "outputId": "13af7c77-5279-4968-b4f0-51ab486510cd"
   },
   "outputs": [],
   "source": [
    "y_train.shape"
   ]
  },
  {
   "cell_type": "code",
   "execution_count": null,
   "metadata": {
    "colab": {
     "base_uri": "https://localhost:8080/"
    },
    "id": "n526wmlp8Pwn",
    "outputId": "aae6a845-a1ae-4e5e-ce78-beb4077920a7"
   },
   "outputs": [],
   "source": [
    "print(y_train)"
   ]
  },
  {
   "cell_type": "markdown",
   "metadata": {
    "id": "5766Us825Yyk"
   },
   "source": [
    "# Let's train catboost classifier and see how well it fits the training data"
   ]
  },
  {
   "cell_type": "markdown",
   "metadata": {
    "id": "x3S2HQif7f97"
   },
   "source": [
    "🐞 do you see a CUDA error? raise your hand now and brag about it"
   ]
  },
  {
   "cell_type": "code",
   "execution_count": null,
   "metadata": {
    "colab": {
     "base_uri": "https://localhost:8080/"
    },
    "id": "Peao1Ylc5Yyl",
    "outputId": "213faba2-27f4-481b-84b9-ccc9b1acda91"
   },
   "outputs": [],
   "source": [
    "%%time\n",
    "import catboost as cb\n",
    "from eval import BinaryEvaluator\n",
    "params = {\n",
    "                'random_strength': 2, # only non-default hyperparam, default is 1\n",
    "                'random_seed': 1234,\n",
    "                'verbose': 0,\n",
    "                'loss_function': 'Logloss',\n",
    "                'task_type': 'GPU',\n",
    "                'devices': '0'\n",
    "            }\n",
    "model = cb.CatBoostClassifier(**params)\n",
    "eval = BinaryEvaluator(X_train.toarray(), y_train)\n",
    "model.fit(X_train.toarray(), y_train)\n",
    "yp = model.predict_proba(X_train)[:, 1] # or validation\n",
    "metric_dict = eval.compute_metrics(yt=y_train, yp=yp) # or validation"
   ]
  },
  {
   "cell_type": "code",
   "execution_count": null,
   "metadata": {
    "colab": {
     "base_uri": "https://localhost:8080/"
    },
    "id": "waTE3Hl99cPX",
    "outputId": "d961f371-38c5-47e4-801a-0d6347846189"
   },
   "outputs": [],
   "source": [
    "for metric_name, metric_value in metric_dict.items():\n",
    "    print(f'{metric_name:20s}: {metric_value:.2f}')"
   ]
  },
  {
   "cell_type": "markdown",
   "metadata": {
    "id": "knDqyMms5Yyl"
   },
   "source": [
    "# How well does it generalize though? Let's try 5-fold cross-validation"
   ]
  },
  {
   "cell_type": "markdown",
   "metadata": {
    "id": "bztUGo6eAYf9"
   },
   "source": [
    "⚠️ these next cells are slow to run! Start them now and come back in 5 minutes"
   ]
  },
  {
   "cell_type": "code",
   "execution_count": null,
   "metadata": {
    "colab": {
     "base_uri": "https://localhost:8080/"
    },
    "id": "0_-ubHP85Yyl",
    "outputId": "887365fb-bd97-43e5-8e72-a8998c98cd1f"
   },
   "outputs": [],
   "source": [
    "%%time\n",
    "model_cv = cb.CatBoostClassifier(**params)\n",
    "metric_dict_cv = eval.CV_model(model_cv)"
   ]
  },
  {
   "cell_type": "code",
   "execution_count": null,
   "metadata": {
    "colab": {
     "base_uri": "https://localhost:8080/"
    },
    "id": "lvxp6AWI_cQ4",
    "outputId": "f8944cff-ae55-427f-c0ac-520494af60e0"
   },
   "outputs": [],
   "source": [
    "for metric_name, metric_value in metric_dict_cv['mean'].items():\n",
    "    print(f'{metric_name:20s}: {metric_value:.2f}')"
   ]
  },
  {
   "cell_type": "markdown",
   "metadata": {
    "id": "XbbpQ2GM5Yyl"
   },
   "source": [
    "# Let's compare it against simpler sklearn baselines"
   ]
  },
  {
   "cell_type": "code",
   "execution_count": null,
   "metadata": {
    "colab": {
     "base_uri": "https://localhost:8080/"
    },
    "id": "FzqCfWDX5Yym",
    "outputId": "c3c25260-895a-4fa3-dbfa-0a6830b4bc00"
   },
   "outputs": [],
   "source": [
    "%%time\n",
    "from eval import get_baseline_models\n",
    "\n",
    "eval = BinaryEvaluator(X_train.toarray(), y_train)\n",
    "baselines = get_baseline_models()\n",
    "baselines_res = {}\n",
    "\n",
    "for m in baselines:\n",
    "    baselines_res[m] = eval.CV_model(baselines[m])"
   ]
  },
  {
   "cell_type": "code",
   "execution_count": null,
   "metadata": {
    "colab": {
     "base_uri": "https://localhost:8080/",
     "height": 320
    },
    "id": "TPzHpmOrAirD",
    "outputId": "63bab6a7-44c2-4625-ad05-4f6884a8782e"
   },
   "outputs": [],
   "source": [
    "# display all the models results\n",
    "baselines_res.update({'catboost': metric_dict_cv})\n",
    "pd.DataFrame({model: metrics['mean'] for model, metrics in baselines_res.items()}).T.round(2)"
   ]
  },
  {
   "cell_type": "markdown",
   "metadata": {
    "id": "Ob58G6gM5Yyn"
   },
   "source": [
    "# Submit predictions"
   ]
  },
  {
   "cell_type": "markdown",
   "metadata": {
    "id": "XWfg9wXOB4SV"
   },
   "source": [
    "Update the next cell with your team name"
   ]
  },
  {
   "cell_type": "code",
   "execution_count": null,
   "metadata": {
    "id": "V3Y1583bB0og"
   },
   "outputs": [],
   "source": [
    "team_name = 'demo'"
   ]
  },
  {
   "cell_type": "code",
   "execution_count": null,
   "metadata": {
    "colab": {
     "base_uri": "https://localhost:8080/",
     "height": 85,
     "referenced_widgets": [
      "4c9bacc69ccc4bbf99f346e52a49e3bf",
      "03dbb4a3baee495b8bc23c19339758a7",
      "ce8b762f3a544c698c217c17ce0c5d3d",
      "d81fbb24a40f49bf9e4841d34f6e9f0f",
      "531c6b340b394545a500d20a8c21fa94",
      "47041aa400d94b28978f97ec614539ba",
      "db187900e540479ab71d4957147e6610",
      "6dbd841b6f364a67af72bb49110cf5ee",
      "22204a88cf7248b497142a1ca7e22f0b",
      "e16a2694d15c4bd4b3b47cbfabd93d01",
      "d2b80aafc71f4909b98998d4579275e8"
     ]
    },
    "id": "340_MENj5Yyn",
    "outputId": "e359407a-d519-4825-e4d5-0254f12408d3"
   },
   "outputs": [],
   "source": [
    "%%time\n",
    "X_test = basic_dataloader('crosstalk_test.parquet', x_col=\"AVALON\", y_col = None, max_to_load = 400000, chunk_size = 20000)"
   ]
  },
  {
   "cell_type": "code",
   "execution_count": null,
   "metadata": {
    "colab": {
     "base_uri": "https://localhost:8080/"
    },
    "id": "tRoWNPsCFojt",
    "outputId": "48e037d1-a870-4e3a-edf6-2b9a993e4c50"
   },
   "outputs": [],
   "source": [
    "X_test.shape"
   ]
  },
  {
   "cell_type": "code",
   "execution_count": null,
   "metadata": {
    "id": "deBOnd6xCE01"
   },
   "outputs": [],
   "source": [
    "yp = model.predict_proba(X_test)[:,1]\n",
    "np.savetxt(f'{team_name}.txt', yp)"
   ]
  },
  {
   "cell_type": "markdown",
   "metadata": {
    "id": "tTd-5y9AYisH"
   },
   "source": [
    "Upload this baseline to kaggle and check out the leaderboard!"
   ]
  }
 ],
 "metadata": {
  "accelerator": "GPU",
  "colab": {
   "gpuType": "T4",
   "include_colab_link": true,
   "provenance": []
  },
  "kernelspec": {
   "display_name": "cuda_env",
   "language": "python",
   "name": "cuda_env"
  },
  "widgets": {
   "application/vnd.jupyter.widget-state+json": {
    "03dbb4a3baee495b8bc23c19339758a7": {
     "model_module": "@jupyter-widgets/controls",
     "model_module_version": "1.5.0",
     "model_name": "HTMLModel",
     "state": {
      "_dom_classes": [],
      "_model_module": "@jupyter-widgets/controls",
      "_model_module_version": "1.5.0",
      "_model_name": "HTMLModel",
      "_view_count": null,
      "_view_module": "@jupyter-widgets/controls",
      "_view_module_version": "1.5.0",
      "_view_name": "HTMLView",
      "description": "",
      "description_tooltip": null,
      "layout": "IPY_MODEL_47041aa400d94b28978f97ec614539ba",
      "placeholder": "​",
      "style": "IPY_MODEL_db187900e540479ab71d4957147e6610",
      "value": "Loading chunks: 100%"
     }
    },
    "055b3d0666c744cb81b690008b148542": {
     "model_module": "@jupyter-widgets/controls",
     "model_module_version": "1.5.0",
     "model_name": "DescriptionStyleModel",
     "state": {
      "_model_module": "@jupyter-widgets/controls",
      "_model_module_version": "1.5.0",
      "_model_name": "DescriptionStyleModel",
      "_view_count": null,
      "_view_module": "@jupyter-widgets/base",
      "_view_module_version": "1.2.0",
      "_view_name": "StyleView",
      "description_width": ""
     }
    },
    "20e5fb92325744ebae2145f731743bfb": {
     "model_module": "@jupyter-widgets/controls",
     "model_module_version": "1.5.0",
     "model_name": "FloatProgressModel",
     "state": {
      "_dom_classes": [],
      "_model_module": "@jupyter-widgets/controls",
      "_model_module_version": "1.5.0",
      "_model_name": "FloatProgressModel",
      "_view_count": null,
      "_view_module": "@jupyter-widgets/controls",
      "_view_module_version": "1.5.0",
      "_view_name": "ProgressView",
      "bar_style": "success",
      "description": "",
      "description_tooltip": null,
      "layout": "IPY_MODEL_67149d336fb845fd81a9d490432683db",
      "max": 1,
      "min": 0,
      "orientation": "horizontal",
      "style": "IPY_MODEL_4b8242bf476f431586390fc0b6bb7d6d",
      "value": 1
     }
    },
    "22204a88cf7248b497142a1ca7e22f0b": {
     "model_module": "@jupyter-widgets/controls",
     "model_module_version": "1.5.0",
     "model_name": "ProgressStyleModel",
     "state": {
      "_model_module": "@jupyter-widgets/controls",
      "_model_module_version": "1.5.0",
      "_model_name": "ProgressStyleModel",
      "_view_count": null,
      "_view_module": "@jupyter-widgets/base",
      "_view_module_version": "1.2.0",
      "_view_name": "StyleView",
      "bar_color": null,
      "description_width": ""
     }
    },
    "2482a8e85b5f48ba81a29c4edfe70805": {
     "model_module": "@jupyter-widgets/base",
     "model_module_version": "1.2.0",
     "model_name": "LayoutModel",
     "state": {
      "_model_module": "@jupyter-widgets/base",
      "_model_module_version": "1.2.0",
      "_model_name": "LayoutModel",
      "_view_count": null,
      "_view_module": "@jupyter-widgets/base",
      "_view_module_version": "1.2.0",
      "_view_name": "LayoutView",
      "align_content": null,
      "align_items": null,
      "align_self": null,
      "border": null,
      "bottom": null,
      "display": null,
      "flex": null,
      "flex_flow": null,
      "grid_area": null,
      "grid_auto_columns": null,
      "grid_auto_flow": null,
      "grid_auto_rows": null,
      "grid_column": null,
      "grid_gap": null,
      "grid_row": null,
      "grid_template_areas": null,
      "grid_template_columns": null,
      "grid_template_rows": null,
      "height": null,
      "justify_content": null,
      "justify_items": null,
      "left": null,
      "margin": null,
      "max_height": null,
      "max_width": null,
      "min_height": null,
      "min_width": null,
      "object_fit": null,
      "object_position": null,
      "order": null,
      "overflow": null,
      "overflow_x": null,
      "overflow_y": null,
      "padding": null,
      "right": null,
      "top": null,
      "visibility": null,
      "width": null
     }
    },
    "3219517a41244cd2b6c1b7fa07a9190a": {
     "model_module": "@jupyter-widgets/controls",
     "model_module_version": "1.5.0",
     "model_name": "HTMLModel",
     "state": {
      "_dom_classes": [],
      "_model_module": "@jupyter-widgets/controls",
      "_model_module_version": "1.5.0",
      "_model_name": "HTMLModel",
      "_view_count": null,
      "_view_module": "@jupyter-widgets/controls",
      "_view_module_version": "1.5.0",
      "_view_name": "HTMLView",
      "description": "",
      "description_tooltip": null,
      "layout": "IPY_MODEL_ca1a0e5f9c3b4309bc555e5d305d4d95",
      "placeholder": "​",
      "style": "IPY_MODEL_055b3d0666c744cb81b690008b148542",
      "value": " 1/1 [00:00&lt;00:00,  1.38it/s]"
     }
    },
    "47041aa400d94b28978f97ec614539ba": {
     "model_module": "@jupyter-widgets/base",
     "model_module_version": "1.2.0",
     "model_name": "LayoutModel",
     "state": {
      "_model_module": "@jupyter-widgets/base",
      "_model_module_version": "1.2.0",
      "_model_name": "LayoutModel",
      "_view_count": null,
      "_view_module": "@jupyter-widgets/base",
      "_view_module_version": "1.2.0",
      "_view_name": "LayoutView",
      "align_content": null,
      "align_items": null,
      "align_self": null,
      "border": null,
      "bottom": null,
      "display": null,
      "flex": null,
      "flex_flow": null,
      "grid_area": null,
      "grid_auto_columns": null,
      "grid_auto_flow": null,
      "grid_auto_rows": null,
      "grid_column": null,
      "grid_gap": null,
      "grid_row": null,
      "grid_template_areas": null,
      "grid_template_columns": null,
      "grid_template_rows": null,
      "height": null,
      "justify_content": null,
      "justify_items": null,
      "left": null,
      "margin": null,
      "max_height": null,
      "max_width": null,
      "min_height": null,
      "min_width": null,
      "object_fit": null,
      "object_position": null,
      "order": null,
      "overflow": null,
      "overflow_x": null,
      "overflow_y": null,
      "padding": null,
      "right": null,
      "top": null,
      "visibility": null,
      "width": null
     }
    },
    "495df25b4d7a4aa7b50f3812d4453001": {
     "model_module": "@jupyter-widgets/controls",
     "model_module_version": "1.5.0",
     "model_name": "HTMLModel",
     "state": {
      "_dom_classes": [],
      "_model_module": "@jupyter-widgets/controls",
      "_model_module_version": "1.5.0",
      "_model_name": "HTMLModel",
      "_view_count": null,
      "_view_module": "@jupyter-widgets/controls",
      "_view_module_version": "1.5.0",
      "_view_name": "HTMLView",
      "description": "",
      "description_tooltip": null,
      "layout": "IPY_MODEL_2482a8e85b5f48ba81a29c4edfe70805",
      "placeholder": "​",
      "style": "IPY_MODEL_6e649acb1fe44a57a8e2204edbd29a5c",
      "value": "Loading chunks: 100%"
     }
    },
    "4b8242bf476f431586390fc0b6bb7d6d": {
     "model_module": "@jupyter-widgets/controls",
     "model_module_version": "1.5.0",
     "model_name": "ProgressStyleModel",
     "state": {
      "_model_module": "@jupyter-widgets/controls",
      "_model_module_version": "1.5.0",
      "_model_name": "ProgressStyleModel",
      "_view_count": null,
      "_view_module": "@jupyter-widgets/base",
      "_view_module_version": "1.2.0",
      "_view_name": "StyleView",
      "bar_color": null,
      "description_width": ""
     }
    },
    "4c9bacc69ccc4bbf99f346e52a49e3bf": {
     "model_module": "@jupyter-widgets/controls",
     "model_module_version": "1.5.0",
     "model_name": "HBoxModel",
     "state": {
      "_dom_classes": [],
      "_model_module": "@jupyter-widgets/controls",
      "_model_module_version": "1.5.0",
      "_model_name": "HBoxModel",
      "_view_count": null,
      "_view_module": "@jupyter-widgets/controls",
      "_view_module_version": "1.5.0",
      "_view_name": "HBoxView",
      "box_style": "",
      "children": [
       "IPY_MODEL_03dbb4a3baee495b8bc23c19339758a7",
       "IPY_MODEL_ce8b762f3a544c698c217c17ce0c5d3d",
       "IPY_MODEL_d81fbb24a40f49bf9e4841d34f6e9f0f"
      ],
      "layout": "IPY_MODEL_531c6b340b394545a500d20a8c21fa94"
     }
    },
    "531c6b340b394545a500d20a8c21fa94": {
     "model_module": "@jupyter-widgets/base",
     "model_module_version": "1.2.0",
     "model_name": "LayoutModel",
     "state": {
      "_model_module": "@jupyter-widgets/base",
      "_model_module_version": "1.2.0",
      "_model_name": "LayoutModel",
      "_view_count": null,
      "_view_module": "@jupyter-widgets/base",
      "_view_module_version": "1.2.0",
      "_view_name": "LayoutView",
      "align_content": null,
      "align_items": null,
      "align_self": null,
      "border": null,
      "bottom": null,
      "display": null,
      "flex": null,
      "flex_flow": null,
      "grid_area": null,
      "grid_auto_columns": null,
      "grid_auto_flow": null,
      "grid_auto_rows": null,
      "grid_column": null,
      "grid_gap": null,
      "grid_row": null,
      "grid_template_areas": null,
      "grid_template_columns": null,
      "grid_template_rows": null,
      "height": null,
      "justify_content": null,
      "justify_items": null,
      "left": null,
      "margin": null,
      "max_height": null,
      "max_width": null,
      "min_height": null,
      "min_width": null,
      "object_fit": null,
      "object_position": null,
      "order": null,
      "overflow": null,
      "overflow_x": null,
      "overflow_y": null,
      "padding": null,
      "right": null,
      "top": null,
      "visibility": null,
      "width": null
     }
    },
    "6526348a49f1426b89abc5bfd22a2b60": {
     "model_module": "@jupyter-widgets/base",
     "model_module_version": "1.2.0",
     "model_name": "LayoutModel",
     "state": {
      "_model_module": "@jupyter-widgets/base",
      "_model_module_version": "1.2.0",
      "_model_name": "LayoutModel",
      "_view_count": null,
      "_view_module": "@jupyter-widgets/base",
      "_view_module_version": "1.2.0",
      "_view_name": "LayoutView",
      "align_content": null,
      "align_items": null,
      "align_self": null,
      "border": null,
      "bottom": null,
      "display": null,
      "flex": null,
      "flex_flow": null,
      "grid_area": null,
      "grid_auto_columns": null,
      "grid_auto_flow": null,
      "grid_auto_rows": null,
      "grid_column": null,
      "grid_gap": null,
      "grid_row": null,
      "grid_template_areas": null,
      "grid_template_columns": null,
      "grid_template_rows": null,
      "height": null,
      "justify_content": null,
      "justify_items": null,
      "left": null,
      "margin": null,
      "max_height": null,
      "max_width": null,
      "min_height": null,
      "min_width": null,
      "object_fit": null,
      "object_position": null,
      "order": null,
      "overflow": null,
      "overflow_x": null,
      "overflow_y": null,
      "padding": null,
      "right": null,
      "top": null,
      "visibility": null,
      "width": null
     }
    },
    "67149d336fb845fd81a9d490432683db": {
     "model_module": "@jupyter-widgets/base",
     "model_module_version": "1.2.0",
     "model_name": "LayoutModel",
     "state": {
      "_model_module": "@jupyter-widgets/base",
      "_model_module_version": "1.2.0",
      "_model_name": "LayoutModel",
      "_view_count": null,
      "_view_module": "@jupyter-widgets/base",
      "_view_module_version": "1.2.0",
      "_view_name": "LayoutView",
      "align_content": null,
      "align_items": null,
      "align_self": null,
      "border": null,
      "bottom": null,
      "display": null,
      "flex": null,
      "flex_flow": null,
      "grid_area": null,
      "grid_auto_columns": null,
      "grid_auto_flow": null,
      "grid_auto_rows": null,
      "grid_column": null,
      "grid_gap": null,
      "grid_row": null,
      "grid_template_areas": null,
      "grid_template_columns": null,
      "grid_template_rows": null,
      "height": null,
      "justify_content": null,
      "justify_items": null,
      "left": null,
      "margin": null,
      "max_height": null,
      "max_width": null,
      "min_height": null,
      "min_width": null,
      "object_fit": null,
      "object_position": null,
      "order": null,
      "overflow": null,
      "overflow_x": null,
      "overflow_y": null,
      "padding": null,
      "right": null,
      "top": null,
      "visibility": null,
      "width": null
     }
    },
    "6dbd841b6f364a67af72bb49110cf5ee": {
     "model_module": "@jupyter-widgets/base",
     "model_module_version": "1.2.0",
     "model_name": "LayoutModel",
     "state": {
      "_model_module": "@jupyter-widgets/base",
      "_model_module_version": "1.2.0",
      "_model_name": "LayoutModel",
      "_view_count": null,
      "_view_module": "@jupyter-widgets/base",
      "_view_module_version": "1.2.0",
      "_view_name": "LayoutView",
      "align_content": null,
      "align_items": null,
      "align_self": null,
      "border": null,
      "bottom": null,
      "display": null,
      "flex": null,
      "flex_flow": null,
      "grid_area": null,
      "grid_auto_columns": null,
      "grid_auto_flow": null,
      "grid_auto_rows": null,
      "grid_column": null,
      "grid_gap": null,
      "grid_row": null,
      "grid_template_areas": null,
      "grid_template_columns": null,
      "grid_template_rows": null,
      "height": null,
      "justify_content": null,
      "justify_items": null,
      "left": null,
      "margin": null,
      "max_height": null,
      "max_width": null,
      "min_height": null,
      "min_width": null,
      "object_fit": null,
      "object_position": null,
      "order": null,
      "overflow": null,
      "overflow_x": null,
      "overflow_y": null,
      "padding": null,
      "right": null,
      "top": null,
      "visibility": null,
      "width": null
     }
    },
    "6e649acb1fe44a57a8e2204edbd29a5c": {
     "model_module": "@jupyter-widgets/controls",
     "model_module_version": "1.5.0",
     "model_name": "DescriptionStyleModel",
     "state": {
      "_model_module": "@jupyter-widgets/controls",
      "_model_module_version": "1.5.0",
      "_model_name": "DescriptionStyleModel",
      "_view_count": null,
      "_view_module": "@jupyter-widgets/base",
      "_view_module_version": "1.2.0",
      "_view_name": "StyleView",
      "description_width": ""
     }
    },
    "736f87ed1bbd4be082ac98f7986d5653": {
     "model_module": "@jupyter-widgets/controls",
     "model_module_version": "1.5.0",
     "model_name": "HBoxModel",
     "state": {
      "_dom_classes": [],
      "_model_module": "@jupyter-widgets/controls",
      "_model_module_version": "1.5.0",
      "_model_name": "HBoxModel",
      "_view_count": null,
      "_view_module": "@jupyter-widgets/controls",
      "_view_module_version": "1.5.0",
      "_view_name": "HBoxView",
      "box_style": "",
      "children": [
       "IPY_MODEL_495df25b4d7a4aa7b50f3812d4453001",
       "IPY_MODEL_20e5fb92325744ebae2145f731743bfb",
       "IPY_MODEL_3219517a41244cd2b6c1b7fa07a9190a"
      ],
      "layout": "IPY_MODEL_6526348a49f1426b89abc5bfd22a2b60"
     }
    },
    "ca1a0e5f9c3b4309bc555e5d305d4d95": {
     "model_module": "@jupyter-widgets/base",
     "model_module_version": "1.2.0",
     "model_name": "LayoutModel",
     "state": {
      "_model_module": "@jupyter-widgets/base",
      "_model_module_version": "1.2.0",
      "_model_name": "LayoutModel",
      "_view_count": null,
      "_view_module": "@jupyter-widgets/base",
      "_view_module_version": "1.2.0",
      "_view_name": "LayoutView",
      "align_content": null,
      "align_items": null,
      "align_self": null,
      "border": null,
      "bottom": null,
      "display": null,
      "flex": null,
      "flex_flow": null,
      "grid_area": null,
      "grid_auto_columns": null,
      "grid_auto_flow": null,
      "grid_auto_rows": null,
      "grid_column": null,
      "grid_gap": null,
      "grid_row": null,
      "grid_template_areas": null,
      "grid_template_columns": null,
      "grid_template_rows": null,
      "height": null,
      "justify_content": null,
      "justify_items": null,
      "left": null,
      "margin": null,
      "max_height": null,
      "max_width": null,
      "min_height": null,
      "min_width": null,
      "object_fit": null,
      "object_position": null,
      "order": null,
      "overflow": null,
      "overflow_x": null,
      "overflow_y": null,
      "padding": null,
      "right": null,
      "top": null,
      "visibility": null,
      "width": null
     }
    },
    "ce8b762f3a544c698c217c17ce0c5d3d": {
     "model_module": "@jupyter-widgets/controls",
     "model_module_version": "1.5.0",
     "model_name": "FloatProgressModel",
     "state": {
      "_dom_classes": [],
      "_model_module": "@jupyter-widgets/controls",
      "_model_module_version": "1.5.0",
      "_model_name": "FloatProgressModel",
      "_view_count": null,
      "_view_module": "@jupyter-widgets/controls",
      "_view_module_version": "1.5.0",
      "_view_name": "ProgressView",
      "bar_style": "success",
      "description": "",
      "description_tooltip": null,
      "layout": "IPY_MODEL_6dbd841b6f364a67af72bb49110cf5ee",
      "max": 20,
      "min": 0,
      "orientation": "horizontal",
      "style": "IPY_MODEL_22204a88cf7248b497142a1ca7e22f0b",
      "value": 20
     }
    },
    "d2b80aafc71f4909b98998d4579275e8": {
     "model_module": "@jupyter-widgets/controls",
     "model_module_version": "1.5.0",
     "model_name": "DescriptionStyleModel",
     "state": {
      "_model_module": "@jupyter-widgets/controls",
      "_model_module_version": "1.5.0",
      "_model_name": "DescriptionStyleModel",
      "_view_count": null,
      "_view_module": "@jupyter-widgets/base",
      "_view_module_version": "1.2.0",
      "_view_name": "StyleView",
      "description_width": ""
     }
    },
    "d81fbb24a40f49bf9e4841d34f6e9f0f": {
     "model_module": "@jupyter-widgets/controls",
     "model_module_version": "1.5.0",
     "model_name": "HTMLModel",
     "state": {
      "_dom_classes": [],
      "_model_module": "@jupyter-widgets/controls",
      "_model_module_version": "1.5.0",
      "_model_name": "HTMLModel",
      "_view_count": null,
      "_view_module": "@jupyter-widgets/controls",
      "_view_module_version": "1.5.0",
      "_view_name": "HTMLView",
      "description": "",
      "description_tooltip": null,
      "layout": "IPY_MODEL_e16a2694d15c4bd4b3b47cbfabd93d01",
      "placeholder": "​",
      "style": "IPY_MODEL_d2b80aafc71f4909b98998d4579275e8",
      "value": " 20/20 [03:20&lt;00:00, 11.60s/it]"
     }
    },
    "db187900e540479ab71d4957147e6610": {
     "model_module": "@jupyter-widgets/controls",
     "model_module_version": "1.5.0",
     "model_name": "DescriptionStyleModel",
     "state": {
      "_model_module": "@jupyter-widgets/controls",
      "_model_module_version": "1.5.0",
      "_model_name": "DescriptionStyleModel",
      "_view_count": null,
      "_view_module": "@jupyter-widgets/base",
      "_view_module_version": "1.2.0",
      "_view_name": "StyleView",
      "description_width": ""
     }
    },
    "e16a2694d15c4bd4b3b47cbfabd93d01": {
     "model_module": "@jupyter-widgets/base",
     "model_module_version": "1.2.0",
     "model_name": "LayoutModel",
     "state": {
      "_model_module": "@jupyter-widgets/base",
      "_model_module_version": "1.2.0",
      "_model_name": "LayoutModel",
      "_view_count": null,
      "_view_module": "@jupyter-widgets/base",
      "_view_module_version": "1.2.0",
      "_view_name": "LayoutView",
      "align_content": null,
      "align_items": null,
      "align_self": null,
      "border": null,
      "bottom": null,
      "display": null,
      "flex": null,
      "flex_flow": null,
      "grid_area": null,
      "grid_auto_columns": null,
      "grid_auto_flow": null,
      "grid_auto_rows": null,
      "grid_column": null,
      "grid_gap": null,
      "grid_row": null,
      "grid_template_areas": null,
      "grid_template_columns": null,
      "grid_template_rows": null,
      "height": null,
      "justify_content": null,
      "justify_items": null,
      "left": null,
      "margin": null,
      "max_height": null,
      "max_width": null,
      "min_height": null,
      "min_width": null,
      "object_fit": null,
      "object_position": null,
      "order": null,
      "overflow": null,
      "overflow_x": null,
      "overflow_y": null,
      "padding": null,
      "right": null,
      "top": null,
      "visibility": null,
      "width": null
     }
    }
   }
  }
 },
 "nbformat": 4,
 "nbformat_minor": 0
}
