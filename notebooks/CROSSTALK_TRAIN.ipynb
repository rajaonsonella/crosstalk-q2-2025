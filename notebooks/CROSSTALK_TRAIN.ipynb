{
 "cells": [
  {
   "cell_type": "markdown",
   "metadata": {},
   "source": [
    "# Set up envinroment for Google Colab"
   ]
  },
  {
   "cell_type": "code",
   "execution_count": null,
   "metadata": {},
   "outputs": [],
   "source": [
    "# Check if directory exists and remove it if it does\n",
    "import os\n",
    "import shutil\n",
    "if os.path.exists('crosstalk-q1-2025'):\n",
    "    shutil.rmtree('crosstalk-q1-2025')\n",
    "!git clone https://github.com/cottascience/crosstalk-q1-2025.git\n",
    "%cd crosstalk-q1-2025\n",
    "!pip install -r requirements.txt"
   ]
  },
  {
   "cell_type": "markdown",
   "metadata": {},
   "source": [
    "# Download the training and test inputs data"
   ]
  },
  {
   "cell_type": "markdown",
   "metadata": {},
   "source": [
    "### Download the training file and upload it to your google Drive (root folder)\n",
    "https://drive.google.com/file/d/11S5p0QgP1X9rOFiIjNSLydLenJwm7hle/view?usp=drive_link\n",
    "https://drive.google.com/file/d/1qM2ikVMKQZsN_WKJc5w7iAulYWpj2rPB/view?usp=drive_link"
   ]
  },
  {
   "cell_type": "code",
   "execution_count": 1,
   "metadata": {},
   "outputs": [],
   "source": [
    "from google.colab import drive\n",
    "drive.mount('/content/drive')\n",
    "file_path = '/content/drive/My Drive/Crosstalk Train.parquet' #check that this is correct"
   ]
  },
  {
   "cell_type": "markdown",
   "metadata": {},
   "source": [
    "# Load the train datasets"
   ]
  },
  {
   "cell_type": "code",
   "execution_count": 1,
   "metadata": {},
   "outputs": [],
   "source": [
    "from dataset import Dataset\n",
    "train_dataset = Dataset(filename=file_path, x_col=\"AVALON\") # fingerprints available: 'ATOMPAIR', 'MACCS', 'ECFP6', 'ECFP4', 'FCFP4', 'FCFP6', 'TOPTOR', 'RDK', 'AVALON'"
   ]
  },
  {
   "cell_type": "markdown",
   "metadata": {},
   "source": [
    "# Get a smaller subset to make it faster to debug"
   ]
  },
  {
   "cell_type": "code",
   "execution_count": 5,
   "metadata": {},
   "outputs": [],
   "source": [
    "import numpy as np\n",
    "random_indices = np.random.choice(len(train_dataset.X), size=1000, replace=False)\n",
    "train_dataset.X = train_dataset.X[random_indices]\n",
    "train_dataset.y = train_dataset.y[random_indices]"
   ]
  },
  {
   "cell_type": "markdown",
   "metadata": {},
   "source": [
    "# Let's train catboost classifier and see how well it fits the training data"
   ]
  },
  {
   "cell_type": "code",
   "execution_count": null,
   "metadata": {},
   "outputs": [],
   "source": [
    "import catboost as cb\n",
    "from eval import BinaryEvaluator\n",
    "params = {\n",
    "                'random_strength': 2, # only non-default hyperparam, default is 1\n",
    "                'random_seed': 1234,\n",
    "                'verbose': 0,\n",
    "                'loss_function': 'Logloss',\n",
    "                'task_type': 'GPU',\n",
    "                'devices': '0'\n",
    "            }\n",
    "model = cb.CatBoostClassifier(**params)\n",
    "eval = BinaryEvaluator(train_dataset.X, train_dataset.y)\n",
    "model.fit(train_dataset.X, train_dataset.y)\n",
    "yp = model.predict_proba(train_dataset.X)[:, 1] # or validation\n",
    "print( eval.compute_metrics(yt=train_dataset.y, yp=yp) ) # or validation"
   ]
  },
  {
   "cell_type": "markdown",
   "metadata": {},
   "source": [
    "# How well does it generalize though? Let's try 5-fold cross-validation"
   ]
  },
  {
   "cell_type": "code",
   "execution_count": null,
   "metadata": {},
   "outputs": [],
   "source": [
    "model = cb.CatBoostClassifier(**params)\n",
    "res = eval.CV_model(model)\n",
    "print(res)"
   ]
  },
  {
   "cell_type": "markdown",
   "metadata": {},
   "source": [
    "# Let's compare it against simpler sklearn baselines"
   ]
  },
  {
   "cell_type": "code",
   "execution_count": null,
   "metadata": {},
   "outputs": [],
   "source": [
    "from eval import get_baseline_models\n",
    "\n",
    "eval = BinaryEvaluator(train_dataset.X, train_dataset.y)\n",
    "baselines = get_baseline_models()\n",
    "baselines_res = {}\n",
    "\n",
    "for m in baselines:\n",
    "    baselines_res[m] = eval.CV_model(baselines[m])\n",
    "\n",
    "print(baselines_res)"
   ]
  },
  {
   "cell_type": "markdown",
   "metadata": {},
   "source": [
    "# Submit predictions"
   ]
  },
  {
   "cell_type": "code",
   "execution_count": null,
   "metadata": {},
   "outputs": [],
   "source": [
    "test_file_path = '/content/drive/My Drive/Crosstalk Test Inputs.parquet'\n",
    "test_dataset = Dataset(filename=test_file_path,x_col=\"AVALON\", test=True)\n",
    "yp = model.predict_proba(test_dataset.X)[:,1]\n",
    "np.savetxt('myteamname.txt', yp)"
   ]
  }
 ],
 "metadata": {
  "kernelspec": {
   "display_name": "cuda_env",
   "language": "python",
   "name": "cuda_env"
  }
 },
 "nbformat": 4,
 "nbformat_minor": 2
}
