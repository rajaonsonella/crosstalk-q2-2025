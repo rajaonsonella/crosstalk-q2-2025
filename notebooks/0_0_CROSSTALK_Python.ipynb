{
  "cells": [
    {
      "cell_type": "markdown",
      "metadata": {
        "id": "view-in-github",
        "colab_type": "text"
      },
      "source": [
        "<a href=\"https://colab.research.google.com/github/rajaonsonella/crosstalk-q2-2025/blob/main/notebooks/0_0_CROSSTALK_Python.ipynb\" target=\"_parent\"><img src=\"https://colab.research.google.com/assets/colab-badge.svg\" alt=\"Open In Colab\"/></a>"
      ]
    },
    {
      "cell_type": "markdown",
      "metadata": {
        "id": "68QrZFxXaa80"
      },
      "source": [
        "# 📊  **Introduction to Python, NumPy, and Pandas**\n",
        "\n",
        "Welcome to this **Introduction to Python, NumPy, and Pandas**, designed to give you a solid foundation in working with Python for data analysis and scientific computing.\n",
        "\n",
        "---\n",
        "\n",
        "## ✅ **1. Python**\n",
        "\n",
        "**Python** is one of the most popular and versatile programming languages in the world. It is widely used for:\n",
        "- **Data analysis**\n",
        "- **Machine learning**\n",
        "- **Web development**\n",
        "- **Automation**\n",
        "- **Scientific research**\n",
        "\n",
        "Python's syntax is **simple and easy to learn**, making it a great choice for beginners and professionals alike.  \n",
        "In this session, we will cover:\n",
        "- Basic Python concepts such as **variables, data types, and control flow (if, for, while)**.\n",
        "- Working with **functions** to organize reusable code.\n",
        "- Introduction to **lists, tuples, and dictionaries** for handling collections of data.\n",
        "\n",
        "---\n",
        "\n",
        "## ✅ **2. NumPy**\n",
        "\n",
        "**NumPy (Numerical Python)** is a powerful Python library for numerical computations. It provides:\n",
        "- **Multi-dimensional arrays (ndarrays)** for fast numerical operations.\n",
        "- Support for **element-wise operations, broadcasting**, and advanced mathematical functions.\n",
        "- Tools for **linear algebra, statistical operations**, and more.\n",
        "\n",
        "NumPy arrays are more efficient and faster than Python lists when working with large datasets.  \n",
        "In this session, we will learn:\n",
        "- How to create and manipulate NumPy arrays.\n",
        "- Perform array operations and slicing.\n",
        "- Utilize useful built-in functions for scientific computation.\n",
        "\n",
        "---\n",
        "\n",
        "## ✅ **3. Pandas**\n",
        "\n",
        "**Pandas** is a powerful data manipulation and analysis library built on top of NumPy. It introduces two main data structures:\n",
        "- **Series**: One-dimensional labeled arrays.\n",
        "- **DataFrame**: Two-dimensional labeled tables (similar to Excel tables).\n",
        "\n",
        "Pandas makes it easy to:\n",
        "- **Load and analyze structured data** (CSV, Excel, SQL databases).\n",
        "- Perform data **cleaning, transformation, and aggregation**.\n",
        "- Handle **missing data, duplicates**, and **merge datasets** efficiently.\n",
        "\n",
        "In this session, we will explore:\n",
        "- How to create and manipulate DataFrames.\n",
        "- Read and write data from various file formats.\n",
        "- Filter, sort, and analyze data using Pandas functions.\n",
        "\n",
        "---\n",
        "\n",
        "### ✅ **Why are these important?**\n",
        "\n",
        "Together, **Python, NumPy, and Pandas** form the core of modern data science and analytics workflows. Learning these tools will allow you to:\n",
        "- Handle and analyze large datasets effectively.\n",
        "- Prepare data for machine learning models.\n",
        "- Perform statistical and numerical computations with ease.\n",
        "\n",
        "By the end of this course, you will be able to confidently work with real-world datasets and perform meaningful data analysis using Python and its powerful libraries.\n",
        "\n",
        "---\n",
        "\n",
        "### 📚 References\n",
        "- [Python Official Documentation](https://www.python.org/doc/)  \n",
        "- [NumPy Documentation](https://numpy.org/doc/)  \n",
        "- [Pandas Documentation](https://pandas.pydata.org/docs/)  \n"
      ]
    },
    {
      "cell_type": "markdown",
      "metadata": {
        "id": "JzKBeKwyQ3Wq"
      },
      "source": [
        "---\n",
        "\n",
        " # 1. 🚀 **Python Programming Essentials: Variables, Control Flow, and Data Structures**\n",
        "\n",
        "\n",
        "\n",
        "### ✅ Variables and Data Types\n",
        "\n",
        "Python is a versatile and powerful programming language. Variables are used to store information that can be referenced and manipulated in a program. Python supports various data types, including integers, floats, strings, and booleans.  \n",
        "In this section, we will learn how to define variables and explore different data types with simple examples.\n"
      ]
    },
    {
      "cell_type": "code",
      "execution_count": 1,
      "metadata": {
        "colab": {
          "base_uri": "https://localhost:8080/"
        },
        "id": "8tS1LD8_RZ2T",
        "outputId": "17b79085-8729-40ad-d0d6-e45bb87a31d5"
      },
      "outputs": [
        {
          "output_type": "stream",
          "name": "stdout",
          "text": [
            "### Variables and Data Types ###\n",
            "Integer x: 10\n",
            "Float pi: 3.1415\n",
            "String name: Python\n",
            "Boolean flag: True\n"
          ]
        }
      ],
      "source": [
        "print(\"### Variables and Data Types ###\")\n",
        "\n",
        "# Integer\n",
        "x = 10\n",
        "print(\"Integer x:\", x)\n",
        "\n",
        "# Float\n",
        "pi = 3.1415\n",
        "print(\"Float pi:\", pi)\n",
        "\n",
        "# String\n",
        "name = \"Python\"\n",
        "print(\"String name:\", name)\n",
        "\n",
        "# Boolean\n",
        "flag = True\n",
        "print(\"Boolean flag:\", flag)"
      ]
    },
    {
      "cell_type": "markdown",
      "metadata": {
        "id": "7W9R7ZVRRtGh"
      },
      "source": [
        "\n",
        "### ✅ Basic Operations\n",
        "\n",
        "Python supports a wide range of arithmetic operations such as addition, subtraction, multiplication, division, and more advanced ones like exponentiation and modulus.  \n",
        "In this part, we will explore how to perform these operations and see their outputs."
      ]
    },
    {
      "cell_type": "code",
      "execution_count": 2,
      "metadata": {
        "colab": {
          "base_uri": "https://localhost:8080/"
        },
        "id": "i27ZRr45R00m",
        "outputId": "ba832b9d-ffe4-4ca8-e635-223c94791dec"
      },
      "outputs": [
        {
          "output_type": "stream",
          "name": "stdout",
          "text": [
            "### Basic Operations ###\n",
            "Addition (a + b): 19\n",
            "Subtraction (a - b): 11\n",
            "Multiplication (a * b): 60\n",
            "Division (a / b): 3.75\n",
            "Integer Division (a // b): 3\n",
            "Modulus (a % b): 3\n",
            "Exponentiation (a ** b): 50625\n"
          ]
        }
      ],
      "source": [
        "print(\"### Basic Operations ###\")\n",
        "\n",
        "a = 15\n",
        "b = 4\n",
        "\n",
        "print(\"Addition (a + b):\", a + b)\n",
        "print(\"Subtraction (a - b):\", a - b)\n",
        "print(\"Multiplication (a * b):\", a * b)\n",
        "print(\"Division (a / b):\", a / b)\n",
        "print(\"Integer Division (a // b):\", a // b)\n",
        "print(\"Modulus (a % b):\", a % b)\n",
        "print(\"Exponentiation (a ** b):\", a ** b)"
      ]
    },
    {
      "cell_type": "markdown",
      "metadata": {
        "id": "LzQ6ubQyR5Lv"
      },
      "source": [
        "### ✅ Control Flow (if, for, while)\n",
        "\n",
        "Control flow statements in Python allow you to control the execution of code blocks. These include:  \n",
        "- **Conditional statements (if/else)** to make decisions.  \n",
        "- **For loops** to iterate over a sequence.  \n",
        "- **While loops** to repeat a block of code as long as a condition is true.  \n",
        "\n",
        "We will practice these concepts with examples to understand how Python handles decision-making and repetition."
      ]
    },
    {
      "cell_type": "code",
      "execution_count": 3,
      "metadata": {
        "colab": {
          "base_uri": "https://localhost:8080/"
        },
        "id": "jZKFG_diRrtC",
        "outputId": "2da1539f-5fa8-4e5c-c253-4e85db2003ab"
      },
      "outputs": [
        {
          "output_type": "stream",
          "name": "stdout",
          "text": [
            "### Control Flow (if, for, while) ###\n",
            "7 is Odd\n",
            "\n",
            "For Loop Example:\n",
            "Square of 1 is 1\n",
            "Square of 2 is 4\n",
            "Square of 3 is 9\n",
            "Square of 4 is 16\n",
            "Square of 5 is 25\n",
            "\n",
            "While Loop Example:\n",
            "Count is: 0\n",
            "Count is: 1\n",
            "Count is: 2\n"
          ]
        }
      ],
      "source": [
        "# ✅ Control Flow (if, for, while)\n",
        "print(\"### Control Flow (if, for, while) ###\")\n",
        "\n",
        "# If-Else\n",
        "num = 7\n",
        "if num % 2 == 0:\n",
        "    print(f\"{num} is Even\")\n",
        "else:\n",
        "    print(f\"{num} is Odd\")\n",
        "\n",
        "# For loop\n",
        "print(\"\\nFor Loop Example:\")\n",
        "for i in range(1, 6):\n",
        "    print(\"Square of\", i, \"is\", i ** 2)\n",
        "\n",
        "# While loop\n",
        "print(\"\\nWhile Loop Example:\")\n",
        "count = 0\n",
        "while count < 3:\n",
        "    print(\"Count is:\", count)\n",
        "    count += 1"
      ]
    },
    {
      "cell_type": "markdown",
      "metadata": {
        "id": "o3livOW8R69x"
      },
      "source": [
        "### ✅ Functions\n",
        "\n",
        "Functions help us organize code into reusable blocks. They take inputs (arguments), perform actions, and return results.  \n",
        "In this section, we will learn how to define and call functions, pass parameters, and return values.\n"
      ]
    },
    {
      "cell_type": "code",
      "execution_count": 4,
      "metadata": {
        "colab": {
          "base_uri": "https://localhost:8080/"
        },
        "id": "u8u6GVRwR_6s",
        "outputId": "332e94f5-ebf5-4e28-c7cf-a674c53b7877"
      },
      "outputs": [
        {
          "output_type": "stream",
          "name": "stdout",
          "text": [
            "### Functions ###\n",
            "Hello, Data Scientist! Welcome to Python.\n",
            "Sum of 10 and 20: 30\n"
          ]
        }
      ],
      "source": [
        "print(\"### Functions ###\")\n",
        "\n",
        "def greet(name):\n",
        "    \"\"\"Function to greet a person\"\"\"\n",
        "    return f\"Hello, {name}! Welcome to Python.\"\n",
        "\n",
        "def add_numbers(a, b):\n",
        "    \"\"\"Function to add two numbers\"\"\"\n",
        "    return a + b\n",
        "\n",
        "# Using functions\n",
        "print(greet(\"Data Scientist\"))\n",
        "print(\"Sum of 10 and 20:\", add_numbers(10, 20))\n",
        "\n"
      ]
    },
    {
      "cell_type": "markdown",
      "metadata": {
        "id": "rHlsRR5BSAaF"
      },
      "source": [
        "### ✅ Lists, Tuples, and Dictionaries\n",
        "\n",
        "- **Lists** are ordered and mutable collections of items.  \n",
        "- **Tuples** are ordered and immutable collections of items.  \n",
        "- **Dictionaries** are collections of key-value pairs.  \n",
        "\n",
        "Here, we will learn how to create and access these data structures in Python, and when to use each of them."
      ]
    },
    {
      "cell_type": "code",
      "execution_count": 5,
      "metadata": {
        "colab": {
          "base_uri": "https://localhost:8080/"
        },
        "id": "_DU1JWU_SGxD",
        "outputId": "365cc8cb-deb0-4dfa-c7ea-d4170495a539"
      },
      "outputs": [
        {
          "output_type": "stream",
          "name": "stdout",
          "text": [
            "### Lists, Tuples, and Dictionaries ###\n",
            "List of fruits: ['apple', 'banana', 'cherry']\n",
            "First fruit: apple\n",
            "List after adding orange: ['apple', 'banana', 'cherry', 'orange']\n",
            "\n",
            "Tuple of coordinates: (10, 20)\n",
            "X coordinate: 10\n",
            "\n",
            "Dictionary of person: {'name': 'Alice', 'age': 30, 'city': 'New York'}\n",
            "Person's name: Alice\n",
            "Updated dictionary: {'name': 'Alice', 'age': 30, 'city': 'New York', 'job': 'Engineer'}\n"
          ]
        }
      ],
      "source": [
        "\n",
        "print(\"### Lists, Tuples, and Dictionaries ###\")\n",
        "\n",
        "# List (mutable)\n",
        "fruits = [\"apple\", \"banana\", \"cherry\"]\n",
        "print(\"List of fruits:\", fruits)\n",
        "print(\"First fruit:\", fruits[0])\n",
        "fruits.append(\"orange\")\n",
        "print(\"List after adding orange:\", fruits)\n",
        "\n",
        "# Tuple (immutable)\n",
        "coordinates = (10, 20)\n",
        "print(\"\\nTuple of coordinates:\", coordinates)\n",
        "print(\"X coordinate:\", coordinates[0])\n",
        "\n",
        "# Dictionary (key-value pairs)\n",
        "person = {\"name\": \"Alice\", \"age\": 30, \"city\": \"New York\"}\n",
        "print(\"\\nDictionary of person:\", person)\n",
        "print(\"Person's name:\", person[\"name\"])\n",
        "\n",
        "# Adding a new key-value pair\n",
        "person[\"job\"] = \"Engineer\"\n",
        "print(\"Updated dictionary:\", person)"
      ]
    },
    {
      "cell_type": "markdown",
      "metadata": {
        "id": "tMFdXKBNSHYO"
      },
      "source": [
        "\n",
        "\n",
        "---\n",
        "\n",
        "\n",
        "# 2. 🧮 **NumPy Essentials: Arrays, Operations, Indexing, and Useful Functions**\n",
        "\n"
      ]
    },
    {
      "cell_type": "markdown",
      "metadata": {
        "id": "8ir3HsGiJDlg"
      },
      "source": [
        "### ✅ NumPy Basics\n",
        "\n",
        "NumPy (Numerical Python) is a fundamental package for scientific computing in Python. It provides support for arrays, matrices, and many mathematical functions.  \n",
        "In this section, we will learn how to create NumPy arrays and perform basic operations on them."
      ]
    },
    {
      "cell_type": "code",
      "execution_count": 6,
      "metadata": {
        "colab": {
          "base_uri": "https://localhost:8080/"
        },
        "id": "qvy2sMJeJKzu",
        "outputId": "0921a6be-4b14-4da4-ed65-2f543d389dff"
      },
      "outputs": [
        {
          "output_type": "stream",
          "name": "stdout",
          "text": [
            "### NumPy Basics ###\n",
            "1D Array: [1 2 3 4 5]\n",
            "\n",
            "2D Array (Matrix):\n",
            " [[1 2 3]\n",
            " [4 5 7]]\n",
            "\n",
            "Array Data Type: int64\n",
            "Matrix Shape: (2, 3)\n",
            "Sum of Array: 15\n",
            "Mean of Array: 3.0\n"
          ]
        }
      ],
      "source": [
        "import numpy as np\n",
        "\n",
        "print(\"### NumPy Basics ###\")\n",
        "# Creating 1D array\n",
        "arr = np.array([1, 2, 3, 4, 5])\n",
        "print(\"1D Array:\", arr)\n",
        "\n",
        "# Creating 2D array (matrix)\n",
        "matrix = np.array([[1, 2, 3], [4, 5, 7]])\n",
        "print(\"\\n2D Array (Matrix):\\n\", matrix)\n",
        "\n",
        "# Checking data type and shape\n",
        "print(\"\\nArray Data Type:\", arr.dtype)\n",
        "print(\"Matrix Shape:\", matrix.shape)\n",
        "\n",
        "# Basic statistics\n",
        "print(\"Sum of Array:\", arr.sum())\n",
        "print(\"Mean of Array:\", arr.mean())"
      ]
    },
    {
      "cell_type": "markdown",
      "metadata": {
        "id": "zWWtez51JPiu"
      },
      "source": [
        "### ✅ Array Operations\n",
        "\n",
        "NumPy arrays allow element-wise operations, which makes computation efficient and concise.  \n",
        "We will explore arithmetic operations, broadcasting, and other ways to manipulate arrays in this part."
      ]
    },
    {
      "cell_type": "code",
      "execution_count": 7,
      "metadata": {
        "colab": {
          "base_uri": "https://localhost:8080/"
        },
        "id": "KmaggiZuJXGu",
        "outputId": "5aa96c8b-689e-4fb2-8ea3-dbc75380770e"
      },
      "outputs": [
        {
          "output_type": "stream",
          "name": "stdout",
          "text": [
            "\n",
            "### Array Operations ###\n",
            "Add 10 to each element: [11 12 13 14 15]\n",
            "Square of each element: [ 1  4  9 16 25]\n",
            "Multiply by 3: [ 3  6  9 12 15]\n",
            "\n",
            "Matrix A:\n",
            " [[1 2]\n",
            " [3 4]]\n",
            "Matrix B:\n",
            " [[2 0]\n",
            " [1 3]]\n",
            "Matrix Multiplication (A * B):\n",
            " [[ 4  6]\n",
            " [10 12]]\n"
          ]
        }
      ],
      "source": [
        "print(\"\\n### Array Operations ###\")\n",
        "# Element-wise arithmetic operations\n",
        "print(\"Add 10 to each element:\", arr + 10)\n",
        "print(\"Square of each element:\", arr ** 2)\n",
        "print(\"Multiply by 3:\", arr * 3)\n",
        "\n",
        "# Matrix multiplication (dot product)\n",
        "a = np.array([[1, 2], [3, 4]])\n",
        "b = np.array([[2, 0], [1, 3]])\n",
        "print(\"\\nMatrix A:\\n\", a)\n",
        "print(\"Matrix B:\\n\", b)\n",
        "print(\"Matrix Multiplication (A * B):\\n\", np.dot(a, b))"
      ]
    },
    {
      "cell_type": "markdown",
      "metadata": {
        "id": "ILR8-GRcJdMQ"
      },
      "source": [
        "### ✅ Array Indexing and Slicing\n",
        "\n",
        "Just like lists in Python, NumPy arrays can be indexed and sliced to access specific elements or subarrays.  \n",
        "We will learn how to retrieve specific elements, rows, and columns from NumPy arrays."
      ]
    },
    {
      "cell_type": "code",
      "execution_count": 8,
      "metadata": {
        "colab": {
          "base_uri": "https://localhost:8080/"
        },
        "id": "LaMuxxBlJiAL",
        "outputId": "c68619fc-55ad-4667-c53a-46745b70b038"
      },
      "outputs": [
        {
          "output_type": "stream",
          "name": "stdout",
          "text": [
            "\n",
            "### Array Indexing and Slicing ###\n",
            "First element of array: 1\n",
            "Last element of array: 5\n",
            "First three elements: [1 2 3]\n",
            "Elements from index 2 onwards: [3 4 5]\n",
            "Every second element: [1 3 5]\n",
            "\n",
            "Element at (0,1): 2\n",
            "First row: [1 2 3]\n",
            "Second column: [2 5]\n"
          ]
        }
      ],
      "source": [
        "print(\"\\n### Array Indexing and Slicing ###\")\n",
        "# Indexing\n",
        "print(\"First element of array:\", arr[0])\n",
        "print(\"Last element of array:\", arr[-1])\n",
        "\n",
        "# Slicing\n",
        "print(\"First three elements:\", arr[:3])\n",
        "print(\"Elements from index 2 onwards:\", arr[2:])\n",
        "print(\"Every second element:\", arr[::2])\n",
        "\n",
        "# Indexing in 2D array\n",
        "print(\"\\nElement at (0,1):\", matrix[0, 1])\n",
        "print(\"First row:\", matrix[0, :])\n",
        "print(\"Second column:\", matrix[:, 1])"
      ]
    },
    {
      "cell_type": "code",
      "execution_count": 9,
      "metadata": {
        "colab": {
          "base_uri": "https://localhost:8080/"
        },
        "id": "hF1Gmbz_VzmD",
        "outputId": "031306ac-9214-4966-8f17-eb4789e96bfc"
      },
      "outputs": [
        {
          "output_type": "execute_result",
          "data": {
            "text/plain": [
              "array([[1, 2, 3],\n",
              "       [4, 5, 7]])"
            ]
          },
          "metadata": {},
          "execution_count": 9
        }
      ],
      "source": [
        "matrix"
      ]
    },
    {
      "cell_type": "code",
      "execution_count": 10,
      "metadata": {
        "colab": {
          "base_uri": "https://localhost:8080/"
        },
        "id": "tSth0gkwXM11",
        "outputId": "2088272b-a52c-4c13-ac78-b6b4722d4639"
      },
      "outputs": [
        {
          "output_type": "execute_result",
          "data": {
            "text/plain": [
              "array([4, 5])"
            ]
          },
          "metadata": {},
          "execution_count": 10
        }
      ],
      "source": [
        "matrix[1, : 2]"
      ]
    },
    {
      "cell_type": "code",
      "execution_count": 11,
      "metadata": {
        "colab": {
          "base_uri": "https://localhost:8080/"
        },
        "id": "6nBN3XJJXhAH",
        "outputId": "68200f21-aa44-472f-c855-c1f75f62fd4e"
      },
      "outputs": [
        {
          "output_type": "execute_result",
          "data": {
            "text/plain": [
              "array([4, 5, 7])"
            ]
          },
          "metadata": {},
          "execution_count": 11
        }
      ],
      "source": [
        "matrix[1, 0:3]"
      ]
    },
    {
      "cell_type": "code",
      "execution_count": 12,
      "metadata": {
        "colab": {
          "base_uri": "https://localhost:8080/"
        },
        "id": "T3YiizQvV7BH",
        "outputId": "53a56142-63b6-4808-de2a-6f84464baeba"
      },
      "outputs": [
        {
          "output_type": "execute_result",
          "data": {
            "text/plain": [
              "np.int64(7)"
            ]
          },
          "metadata": {},
          "execution_count": 12
        }
      ],
      "source": [
        "matrix[1, 2]"
      ]
    },
    {
      "cell_type": "markdown",
      "metadata": {
        "id": "JZAUXS75Jojt"
      },
      "source": [
        "### ✅ Useful NumPy Functions\n",
        "\n",
        "NumPy offers many built-in functions for creating arrays, generating random numbers, and performing mathematical operations.  \n",
        "In this section, we will explore functions like `zeros`, `ones`, `arange`, and `random`."
      ]
    },
    {
      "cell_type": "code",
      "execution_count": 13,
      "metadata": {
        "colab": {
          "base_uri": "https://localhost:8080/"
        },
        "id": "__ypJAB9SPJz",
        "outputId": "9df9d584-0f03-409a-e2e6-f8530e91ff66"
      },
      "outputs": [
        {
          "output_type": "stream",
          "name": "stdout",
          "text": [
            "\n",
            "### Useful NumPy Functions ###\n",
            "Array of Zeros:\n",
            " [[0. 0. 0.]\n",
            " [0. 0. 0.]]\n",
            "\n",
            "Array of Ones:\n",
            " [[1. 1. 1.]\n",
            " [1. 1. 1.]\n",
            " [1. 1. 1.]]\n",
            "\n",
            "Array with range (0 to 10 with step 2): [0 2 4 6 8]\n",
            "\n",
            "Random Array (2x4):\n",
            " [[0.8000105  0.57941664 0.24326401 0.20518822]\n",
            " [0.08440138 0.41733563 0.08346119 0.4394956 ]]\n",
            "\n",
            "Random Integers (3x3, 1 to 100):\n",
            " [[38 47 12]\n",
            " [ 8 64 30]\n",
            " [95  7 47]]\n"
          ]
        }
      ],
      "source": [
        "print(\"\\n### Useful NumPy Functions ###\")\n",
        "# Array of zeros\n",
        "zeros_array = np.zeros((2, 3))\n",
        "print(\"Array of Zeros:\\n\", zeros_array)\n",
        "\n",
        "# Array of ones\n",
        "ones_array = np.ones((3, 3))\n",
        "print(\"\\nArray of Ones:\\n\", ones_array)\n",
        "\n",
        "# Array with a range of values\n",
        "range_array = np.arange(0, 10, 2)\n",
        "print(\"\\nArray with range (0 to 10 with step 2):\", range_array)\n",
        "\n",
        "# Random array\n",
        "random_array = np.random.rand(2, 4)  # 2x4 matrix with random values between 0 and 1\n",
        "print(\"\\nRandom Array (2x4):\\n\", random_array)\n",
        "\n",
        "# Random integers\n",
        "rand_int_array = np.random.randint(1, 100, size=(3, 3))\n",
        "print(\"\\nRandom Integers (3x3, 1 to 100):\\n\", rand_int_array)\n"
      ]
    },
    {
      "cell_type": "markdown",
      "metadata": {
        "id": "hDbv4rTMaiwl"
      },
      "source": [
        "---\n",
        "\n",
        "# 3. 🗂️ **Pandas Essentials: DataFrames, Data Manipulation, and Analysis**\n",
        "> **In this section**, we will learn how to work with Pandas for data manipulation and analysis.  \n",
        "> This includes creating and managing DataFrames, selecting and filtering data, reading and writing files, and performing basic operations — essential skills for real-world data science and machine learning workflows.\n",
        "\n"
      ]
    },
    {
      "cell_type": "markdown",
      "metadata": {
        "id": "POg2Pd7hsNFg"
      },
      "source": [
        "### ✅ Pandas Basics\n",
        "\n",
        "Pandas is a fast, powerful, and flexible library for data analysis and manipulation.  \n",
        "The main data structures in Pandas are:  \n",
        "- **Series** (1D labeled array)  \n",
        "- **DataFrame** (2D labeled data structure)  \n",
        "\n",
        "Here, we will learn how to create DataFrames and explore basic operations.\n",
        "\n"
      ]
    },
    {
      "cell_type": "markdown",
      "metadata": {
        "id": "pk-kuZoSf3Kx"
      },
      "source": [
        "> **📌 Note:**\n",
        ">\n",
        "> In this tutorial, we are using a **healthcare dataset** containing fictional patient records.\n",
        ">\n",
        "> **Columns:**\n",
        "> - `Patient_ID`: Unique identifier for each patient.\n",
        "> - `Age`: Age of the patient.\n",
        "> - `Gender`: Gender (Male/Female).\n",
        "> - `Diagnosis`: Medical diagnosis (e.g., Diabetes, Hypertension).\n",
        "> - `Treatment_Cost`: Total cost of the treatment in USD.\n",
        ">\n",
        "> This dataset is used consistently across **DataFrame creation**, **file reading/writing**, and **data selection/filtering** examples to help you understand how to manipulate real-world healthcare data effectively.\n"
      ]
    },
    {
      "cell_type": "markdown",
      "metadata": {
        "id": "xbv5Fuciakn1"
      },
      "source": [
        "### ✅ Creating a DataFrame\n",
        "\n",
        "- Define a **sample DataFrame** to work with throughout the tutorial.\n",
        "- Display the first few rows and check the data structure.\n",
        "- Understand the difference between **Series** (single column) and **DataFrames** (tables)."
      ]
    },
    {
      "cell_type": "code",
      "execution_count": 14,
      "metadata": {
        "colab": {
          "base_uri": "https://localhost:8080/"
        },
        "id": "KDCCldrvamth",
        "outputId": "8022c427-b1c6-4c43-db73-a58e63cc9a2d"
      },
      "outputs": [
        {
          "output_type": "stream",
          "name": "stdout",
          "text": [
            "Healthcare Dataset:\n",
            "    Patient_ID  Age  Gender     Diagnosis  Treatment_Cost\n",
            "0         101   45  Female      Diabetes            5000\n",
            "1         102   62    Male  Hypertension            7000\n",
            "2         103   37  Female       Healthy            1500\n",
            "3         104   29    Male        Asthma            3000\n",
            "4         105   54  Female      Diabetes            4500\n"
          ]
        }
      ],
      "source": [
        "\n",
        "import pandas as pd\n",
        "\n",
        "# Sample healthcare-related data\n",
        "data = {\n",
        "    \"Patient_ID\": [101, 102, 103, 104, 105],\n",
        "    \"Age\": [45, 62, 37, 29, 54],\n",
        "    \"Gender\": [\"Female\", \"Male\", \"Female\", \"Male\", \"Female\"],\n",
        "    \"Diagnosis\": [\"Diabetes\", \"Hypertension\", \"Healthy\", \"Asthma\", \"Diabetes\"],\n",
        "    \"Treatment_Cost\": [5000, 7000, 1500, 3000, 4500]\n",
        "}\n",
        "\n",
        "# Create DataFrame\n",
        "df = pd.DataFrame(data)\n",
        "print(\"Healthcare Dataset:\\n\", df)\n"
      ]
    },
    {
      "cell_type": "markdown",
      "metadata": {
        "id": "RZq6VGRqanwE"
      },
      "source": [
        "\n",
        "\n",
        "### ✅ Reading and Writing Data\n",
        "\n",
        "Pandas allows us to easily read data from files (like CSV, Excel) and write data to files.  \n",
        "We will practice reading data into Pandas DataFrames and saving them to files.\n",
        "\n",
        "\n",
        "\n",
        "> **📌 Note:**\n",
        ">\n",
        "> **When reading from or writing to files (CSV, Excel), it is important to define the correct file path.**\n",
        ">\n",
        "> - If your file is in the **same directory** as your Jupyter Notebook, you can simply use the file name, e.g., `'myfile.csv'`.\n",
        "> - If your file is located elsewhere on your computer, you should use an **absolute path**, e.g., `'/Users/username/Documents/myfile.csv'` (on Mac/Linux) or `'C:\\\\Users\\\\username\\\\Documents\\\\myfile.csv'` (on Windows).\n",
        "> - **In Google Colab**, you need to **upload files manually** or **mount Google Drive** to access files.\n",
        ">\n",
        "> ✅ **Example paths:**\n",
        ">\n",
        "> - `'data.csv'` (same directory as notebook)\n",
        "> - `'/Users/username/Desktop/data.csv'` (absolute path on Mac/Linux)\n",
        "> - `'C:\\\\Users\\\\username\\\\Desktop\\\\data.csv'` (absolute path on Windows)\n",
        ">\n",
        "> ➤ **Tip:** Use `'index=False'` when saving DataFrames to prevent Pandas from writing row numbers as a column in the file.\n"
      ]
    },
    {
      "cell_type": "code",
      "execution_count": 15,
      "metadata": {
        "colab": {
          "base_uri": "https://localhost:8080/"
        },
        "id": "5CP4TvYlap6Y",
        "outputId": "e3088119-c367-4abc-b5a7-9217b37a50d6"
      },
      "outputs": [
        {
          "output_type": "stream",
          "name": "stdout",
          "text": [
            "\n",
            "### Reading and Writing Data with Pandas (Healthcare Dataset) ###\n",
            "\n",
            "DataFrame saved to 'healthcare_data.csv'\n",
            "DataFrame saved to 'healthcare_data.xlsx'\n",
            "\n",
            "DataFrame loaded from CSV:\n",
            "    Patient_ID  Age  Gender     Diagnosis  Treatment_Cost\n",
            "0         101   45  Female      Diabetes            5000\n",
            "1         102   62    Male  Hypertension            7000\n",
            "2         103   37  Female       Healthy            1500\n",
            "3         104   29    Male        Asthma            3000\n",
            "4         105   54  Female      Diabetes            4500\n",
            "\n",
            "DataFrame loaded from Excel:\n",
            "    Patient_ID  Age  Gender     Diagnosis  Treatment_Cost\n",
            "0         101   45  Female      Diabetes            5000\n",
            "1         102   62    Male  Hypertension            7000\n",
            "2         103   37  Female       Healthy            1500\n",
            "3         104   29    Male        Asthma            3000\n",
            "4         105   54  Female      Diabetes            4500\n",
            "\n",
            "IMPORTANT NOTE:\n",
            "- Make sure to set correct file paths when reading/writing.\n",
            "- Use relative paths like 'healthcare_data.csv' if in the same folder as notebook.\n",
            "- Use absolute paths if files are located elsewhere on your system.\n"
          ]
        }
      ],
      "source": [
        "# Reading and Writing Data (Healthcare Dataset)\n",
        "\n",
        "print(\"\\n### Reading and Writing Data with Pandas (Healthcare Dataset) ###\\n\")\n",
        "\n",
        "# --- Writing Data ---\n",
        "\n",
        "# Define paths (adjust paths based on your working environment)\n",
        "csv_path = 'healthcare_data.csv'\n",
        "excel_path = 'healthcare_data.xlsx'\n",
        "\n",
        "# Save to CSV\n",
        "df.to_csv(csv_path, index=False)\n",
        "print(f\"DataFrame saved to '{csv_path}'\")\n",
        "\n",
        "# Save to Excel\n",
        "df.to_excel(excel_path, index=False, sheet_name='Patients')\n",
        "print(f\"DataFrame saved to '{excel_path}'\")\n",
        "\n",
        "# --- Reading Data ---\n",
        "\n",
        "# Read CSV\n",
        "df_csv = pd.read_csv(csv_path)\n",
        "print(\"\\nDataFrame loaded from CSV:\\n\", df_csv)\n",
        "\n",
        "# Read Excel\n",
        "df_excel = pd.read_excel(excel_path, sheet_name='Patients')\n",
        "print(\"\\nDataFrame loaded from Excel:\\n\", df_excel)\n",
        "\n",
        "# --- Note for students ---\n",
        "\n",
        "print(\"\\nIMPORTANT NOTE:\")\n",
        "print(\"- Make sure to set correct file paths when reading/writing.\")\n",
        "print(\"- Use relative paths like 'healthcare_data.csv' if in the same folder as notebook.\")\n",
        "print(\"- Use absolute paths if files are located elsewhere on your system.\")\n"
      ]
    },
    {
      "cell_type": "markdown",
      "metadata": {
        "id": "bnhs_bB0bByy"
      },
      "source": [
        "### ✅ Data Selection and Filtering\n",
        "\n",
        "Selecting specific rows, columns, or both is essential in data analysis.  \n",
        "We will learn various ways to filter and select data, including boolean indexing and label-based selection.\n",
        "\n"
      ]
    },
    {
      "cell_type": "code",
      "execution_count": 16,
      "metadata": {
        "colab": {
          "base_uri": "https://localhost:8080/"
        },
        "id": "xPneKMEAbCO_",
        "outputId": "ac00e6ae-f3ea-4b62-cc71-0c5f4d4dedc1"
      },
      "outputs": [
        {
          "output_type": "stream",
          "name": "stdout",
          "text": [
            "### Data Selection and Filtering - Healthcare Dataset ###\n",
            "\n",
            "Sample Healthcare DataFrame:\n",
            "    Patient_ID  Age  Gender     Diagnosis  Treatment_Cost\n",
            "0         101   45  Female      Diabetes            5000\n",
            "1         102   62    Male  Hypertension            7000\n",
            "2         103   37  Female       Healthy            1500\n",
            "3         104   29    Male        Asthma            3000\n",
            "4         105   54  Female      Diabetes            4500\n",
            "\n",
            "--- Selecting Columns ---\n",
            "\n",
            "Single Column (Diagnosis):\n",
            " 0        Diabetes\n",
            "1    Hypertension\n",
            "2         Healthy\n",
            "3          Asthma\n",
            "4        Diabetes\n",
            "Name: Diagnosis, dtype: object\n",
            "\n",
            "Multiple Columns (Patient_ID and Treatment_Cost):\n",
            "    Patient_ID  Treatment_Cost\n",
            "0         101            5000\n",
            "1         102            7000\n",
            "2         103            1500\n",
            "3         104            3000\n",
            "4         105            4500\n",
            "\n",
            "--- Selecting Rows ---\n",
            "\n",
            "Row at index 2 (using iloc):\n",
            " Patient_ID            103\n",
            "Age                    37\n",
            "Gender             Female\n",
            "Diagnosis         Healthy\n",
            "Treatment_Cost       1500\n",
            "Name: 2, dtype: object\n",
            "\n",
            "Row with Patient_ID 104 (using loc):\n",
            "    Patient_ID  Age Gender Diagnosis  Treatment_Cost\n",
            "3         104   29   Male    Asthma            3000\n",
            "\n",
            "--- Selecting Rows and Columns Together ---\n",
            "\n",
            "Selecting 'Age' and 'Diagnosis' for first 3 patients:\n",
            "    Age     Diagnosis\n",
            "0   45      Diabetes\n",
            "1   62  Hypertension\n",
            "2   37       Healthy\n",
            "\n",
            "--- Conditional Filtering (Boolean Indexing) ---\n",
            "\n",
            "Patients older than 50:\n",
            "    Patient_ID  Age  Gender     Diagnosis  Treatment_Cost\n",
            "1         102   62    Male  Hypertension            7000\n",
            "4         105   54  Female      Diabetes            4500\n",
            "\n",
            "Female patients diagnosed with Diabetes:\n",
            "    Patient_ID  Age  Gender Diagnosis  Treatment_Cost\n",
            "0         101   45  Female  Diabetes            5000\n",
            "4         105   54  Female  Diabetes            4500\n",
            "\n",
            "Patients with Treatment Cost over 4000:\n",
            "    Patient_ID  Age  Gender     Diagnosis  Treatment_Cost\n",
            "0         101   45  Female      Diabetes            5000\n",
            "1         102   62    Male  Hypertension            7000\n",
            "4         105   54  Female      Diabetes            4500\n",
            "\n",
            "--- Important Notes ---\n",
            "- Use single brackets df['column'] to select a Series (one column).\n",
            "- Use double brackets df[['col1', 'col2']] to select multiple columns (DataFrame).\n",
            "- Use df.loc[row_label, column_label] for label-based selection or conditional selection.\n",
            "- Use df.iloc[row_index, column_index] for index-based selection.\n",
            "- Boolean indexing is essential for filtering healthcare data based on diagnosis, age, cost, and other attributes.\n"
          ]
        }
      ],
      "source": [
        "# Data Selection and Filtering with Pandas (Healthcare Example)\n",
        "\n",
        "import pandas as pd\n",
        "\n",
        "print(\"### Data Selection and Filtering - Healthcare Dataset ###\\n\")\n",
        "\n",
        "# Sample healthcare-related DataFrame\n",
        "data = {\n",
        "    \"Patient_ID\": [101, 102, 103, 104, 105],\n",
        "    \"Age\": [45, 62, 37, 29, 54],\n",
        "    \"Gender\": [\"Female\", \"Male\", \"Female\", \"Male\", \"Female\"],\n",
        "    \"Diagnosis\": [\"Diabetes\", \"Hypertension\", \"Healthy\", \"Asthma\", \"Diabetes\"],\n",
        "    \"Treatment_Cost\": [5000, 7000, 1500, 3000, 4500]\n",
        "}\n",
        "\n",
        "df = pd.DataFrame(data)\n",
        "print(\"Sample Healthcare DataFrame:\\n\", df)\n",
        "\n",
        "print(\"\\n--- Selecting Columns ---\")\n",
        "\n",
        "# Selecting a single column (Series)\n",
        "print(\"\\nSingle Column (Diagnosis):\\n\", df[\"Diagnosis\"])\n",
        "\n",
        "# Selecting multiple columns (DataFrame)\n",
        "print(\"\\nMultiple Columns (Patient_ID and Treatment_Cost):\\n\", df[[\"Patient_ID\", \"Treatment_Cost\"]])\n",
        "\n",
        "\n",
        "print(\"\\n--- Selecting Rows ---\")\n",
        "\n",
        "# Selecting rows using iloc (index-based selection)\n",
        "print(\"\\nRow at index 2 (using iloc):\\n\", df.iloc[2])\n",
        "\n",
        "\n",
        "# Selecting rows using loc (label-based selection, here labels are indices)\n",
        "print(\"\\nRow with Patient_ID 104 (using loc):\\n\", df.loc[df[\"Patient_ID\"] == 104])\n",
        "\n",
        "print(\"\\n--- Selecting Rows and Columns Together ---\")\n",
        "\n",
        "# Selecting specific rows and columns\n",
        "\n",
        "print(\"\\nSelecting 'Age' and 'Diagnosis' for first 3 patients:\\n\", df.loc[0:2, [\"Age\", \"Diagnosis\"]])\n",
        "\n",
        "print(\"\\n--- Conditional Filtering (Boolean Indexing) ---\")\n",
        "\n",
        "# Filtering rows based on a condition (e.g., Age > 50)\n",
        "print(\"\\nPatients older than 50:\\n\", df[df[\"Age\"] > 50])\n",
        "\n",
        "# Filtering with multiple conditions (e.g., Female patients with Diabetes)\n",
        "print(\"\\nFemale patients diagnosed with Diabetes:\\n\", df[(df[\"Gender\"] == \"Female\") & (df[\"Diagnosis\"] == \"Diabetes\")])\n",
        "\n",
        "# Filtering rows where Treatment Cost > 4000\n",
        "print(\"\\nPatients with Treatment Cost over 4000:\\n\", df[df[\"Treatment_Cost\"] > 4000])\n",
        "\n",
        "print(\"\\n--- Important Notes ---\")\n",
        "print(\"- Use single brackets df['column'] to select a Series (one column).\")\n",
        "print(\"- Use double brackets df[['col1', 'col2']] to select multiple columns (DataFrame).\")\n",
        "print(\"- Use df.loc[row_label, column_label] for label-based selection or conditional selection.\")\n",
        "print(\"- Use df.iloc[row_index, column_index] for index-based selection.\")\n",
        "print(\"- Boolean indexing is essential for filtering healthcare data based on diagnosis, age, cost, and other attributes.\")\n"
      ]
    },
    {
      "cell_type": "markdown",
      "metadata": {
        "id": "LVQRkHsbbDah"
      },
      "source": [
        "### ✅ Basic Operations on DataFrames\n",
        "\n",
        "Pandas provides various functions to perform operations on dataframes, such as:  \n",
        "- Summarizing data with `describe()`  \n",
        "- Adding and removing columns  \n",
        "- Sorting and aggregating data  \n",
        "\n",
        "In this section, we will explore these essential functions.\n",
        "\n"
      ]
    },
    {
      "cell_type": "code",
      "execution_count": 17,
      "metadata": {
        "colab": {
          "base_uri": "https://localhost:8080/"
        },
        "id": "btUgluP2bDvE",
        "outputId": "dfb77ca0-475b-4a3d-e6e0-81464a077401"
      },
      "outputs": [
        {
          "output_type": "stream",
          "name": "stdout",
          "text": [
            "### Basic Operations on DataFrames - Healthcare Dataset ###\n",
            "\n",
            "Healthcare DataFrame:\n",
            "    Patient_ID  Age  Gender     Diagnosis  Treatment_Cost\n",
            "0         101   45  Female      Diabetes            5000\n",
            "1         102   62    Male  Hypertension            7000\n",
            "2         103   37  Female       Healthy            1500\n",
            "3         104   29    Male        Asthma            3000\n",
            "4         105   54  Female      Diabetes            4500\n",
            "\n",
            "--- Summarizing Data ---\n",
            "\n",
            "Summary statistics (describe):\n",
            "        Patient_ID        Age  Treatment_Cost\n",
            "count    5.000000   5.000000        5.000000\n",
            "mean   103.000000  45.400000     4200.000000\n",
            "std      1.581139  13.126309     2079.663434\n",
            "min    101.000000  29.000000     1500.000000\n",
            "25%    102.000000  37.000000     3000.000000\n",
            "50%    103.000000  45.000000     4500.000000\n",
            "75%    104.000000  54.000000     5000.000000\n",
            "max    105.000000  62.000000     7000.000000\n",
            "\n",
            "Summary of non-numeric data:\n",
            "         Gender Diagnosis\n",
            "count        5         5\n",
            "unique       2         4\n",
            "top     Female  Diabetes\n",
            "freq         3         2\n",
            "\n",
            "--- Adding a New Column ---\n",
            "\n",
            "DataFrame with new column 'Hospital_Stay_Days':\n",
            "    Patient_ID  Age  Gender     Diagnosis  Treatment_Cost  Hospital_Stay_Days\n",
            "0         101   45  Female      Diabetes            5000                   5\n",
            "1         102   62    Male  Hypertension            7000                   7\n",
            "2         103   37  Female       Healthy            1500                   2\n",
            "3         104   29    Male        Asthma            3000                   3\n",
            "4         105   54  Female      Diabetes            4500                   4\n",
            "\n",
            "--- Removing a Column ---\n",
            "\n",
            "DataFrame after removing 'Hospital_Stay_Days':\n",
            "    Patient_ID  Age  Gender     Diagnosis  Treatment_Cost\n",
            "0         101   45  Female      Diabetes            5000\n",
            "1         102   62    Male  Hypertension            7000\n",
            "2         103   37  Female       Healthy            1500\n",
            "3         104   29    Male        Asthma            3000\n",
            "4         105   54  Female      Diabetes            4500\n",
            "\n",
            "--- Sorting Data ---\n",
            "\n",
            "Sorted by Age (ascending):\n",
            "    Patient_ID  Age  Gender     Diagnosis  Treatment_Cost\n",
            "3         104   29    Male        Asthma            3000\n",
            "2         103   37  Female       Healthy            1500\n",
            "0         101   45  Female      Diabetes            5000\n",
            "4         105   54  Female      Diabetes            4500\n",
            "1         102   62    Male  Hypertension            7000\n",
            "\n",
            "Sorted by Treatment_Cost (descending):\n",
            "    Patient_ID  Age  Gender     Diagnosis  Treatment_Cost\n",
            "1         102   62    Male  Hypertension            7000\n",
            "0         101   45  Female      Diabetes            5000\n",
            "4         105   54  Female      Diabetes            4500\n",
            "3         104   29    Male        Asthma            3000\n",
            "2         103   37  Female       Healthy            1500\n",
            "\n",
            "--- Aggregating Data ---\n",
            "\n",
            "Average Treatment Cost by Diagnosis:\n",
            " Diagnosis\n",
            "Asthma          3000.0\n",
            "Diabetes        4750.0\n",
            "Healthy         1500.0\n",
            "Hypertension    7000.0\n",
            "Name: Treatment_Cost, dtype: float64\n",
            "\n",
            "Number of patients by Diagnosis:\n",
            " Diagnosis\n",
            "Diabetes        2\n",
            "Hypertension    1\n",
            "Healthy         1\n",
            "Asthma          1\n",
            "Name: count, dtype: int64\n",
            "\n",
            "--- Important Notes ---\n",
            "- 'describe()' provides statistical summary for numeric columns.\n",
            "- New columns can be added by direct assignment (e.g., df['New_Column'] = values).\n",
            "- Use 'drop()' to remove columns or rows (set 'inplace=True' to apply changes directly).\n",
            "- Sorting can be done ascending or descending using 'sort_values()'.\n",
            "- Aggregations like mean(), sum(), count() can be performed using 'groupby' or 'value_counts'.\n"
          ]
        }
      ],
      "source": [
        "# Basic Operations on DataFrames (Healthcare Dataset)\n",
        "\n",
        "import pandas as pd\n",
        "\n",
        "print(\"### Basic Operations on DataFrames - Healthcare Dataset ###\\n\")\n",
        "\n",
        "# Sample healthcare dataset\n",
        "data = {\n",
        "    \"Patient_ID\": [101, 102, 103, 104, 105],\n",
        "    \"Age\": [45, 62, 37, 29, 54],\n",
        "    \"Gender\": [\"Female\", \"Male\", \"Female\", \"Male\", \"Female\"],\n",
        "    \"Diagnosis\": [\"Diabetes\", \"Hypertension\", \"Healthy\", \"Asthma\", \"Diabetes\"],\n",
        "    \"Treatment_Cost\": [5000, 7000, 1500, 3000, 4500]\n",
        "}\n",
        "\n",
        "df = pd.DataFrame(data)\n",
        "print(\"Healthcare DataFrame:\\n\", df)\n",
        "\n",
        "print(\"\\n--- Summarizing Data ---\")\n",
        "\n",
        "# Summarize numerical columns\n",
        "print(\"\\nSummary statistics (describe):\\n\", df.describe())\n",
        "\n",
        "# Summarize categorical columns\n",
        "print(\"\\nSummary of non-numeric data:\\n\", df.describe(include=['object']))\n",
        "\n",
        "print(\"\\n--- Adding a New Column ---\")\n",
        "\n",
        "# Add a new column 'Hospital_Stay_Days'\n",
        "df[\"Hospital_Stay_Days\"] = [5, 7, 2, 3, 4]\n",
        "print(\"\\nDataFrame with new column 'Hospital_Stay_Days':\\n\", df)\n",
        "\n",
        "print(\"\\n--- Removing a Column ---\")\n",
        "\n",
        "# Remove the 'Hospital_Stay_Days' column\n",
        "df.drop(columns=[\"Hospital_Stay_Days\"], inplace=True)\n",
        "print(\"\\nDataFrame after removing 'Hospital_Stay_Days':\\n\", df)\n",
        "\n",
        "print(\"\\n--- Sorting Data ---\")\n",
        "\n",
        "# Sort patients by Age\n",
        "print(\"\\nSorted by Age (ascending):\\n\", df.sort_values(by=\"Age\"))\n",
        "\n",
        "# Sort by Treatment Cost (descending order)\n",
        "print(\"\\nSorted by Treatment_Cost (descending):\\n\", df.sort_values(by=\"Treatment_Cost\", ascending=False))\n",
        "\n",
        "print(\"\\n--- Aggregating Data ---\")\n",
        "\n",
        "# Aggregate: Average Treatment Cost by Diagnosis\n",
        "avg_cost_by_diagnosis = df.groupby(\"Diagnosis\")[\"Treatment_Cost\"].mean()\n",
        "print(\"\\nAverage Treatment Cost by Diagnosis:\\n\", avg_cost_by_diagnosis)\n",
        "\n",
        "# Aggregate: Count of patients by Diagnosis\n",
        "patient_count_by_diagnosis = df[\"Diagnosis\"].value_counts()\n",
        "print(\"\\nNumber of patients by Diagnosis:\\n\", patient_count_by_diagnosis)\n",
        "\n",
        "print(\"\\n--- Important Notes ---\")\n",
        "print(\"- 'describe()' provides statistical summary for numeric columns.\")\n",
        "print(\"- New columns can be added by direct assignment (e.g., df['New_Column'] = values).\")\n",
        "print(\"- Use 'drop()' to remove columns or rows (set 'inplace=True' to apply changes directly).\")\n",
        "print(\"- Sorting can be done ascending or descending using 'sort_values()'.\")\n",
        "print(\"- Aggregations like mean(), sum(), count() can be performed using 'groupby' or 'value_counts'.\")\n"
      ]
    },
    {
      "cell_type": "markdown",
      "metadata": {
        "id": "yDcIosUZbFoM"
      },
      "source": [
        "### ✅ Handling Missing Data\n",
        "\n",
        "Real-world datasets often contain missing data. Pandas provides several ways to handle these issues, including:  \n",
        "- Checking for missing data  \n",
        "- Filling missing values with specific values or computed ones  \n",
        "- Dropping rows or columns with missing data  \n",
        "\n",
        "We will explore these techniques to clean our data for analysis.\n"
      ]
    },
    {
      "cell_type": "code",
      "execution_count": 18,
      "metadata": {
        "colab": {
          "base_uri": "https://localhost:8080/"
        },
        "id": "kUAQaoDzbFwL",
        "outputId": "97748641-7402-4ac2-f999-ea5a872be847"
      },
      "outputs": [
        {
          "output_type": "stream",
          "name": "stdout",
          "text": [
            "### Handling Missing Data - Healthcare Dataset ###\n",
            "\n",
            "Healthcare DataFrame with Missing Values:\n",
            "    Patient_ID   Age  Gender     Diagnosis  Treatment_Cost\n",
            "0         101  45.0  Female      Diabetes          5000.0\n",
            "1         102   NaN    Male  Hypertension          7000.0\n",
            "2         103  37.0     NaN       Healthy             NaN\n",
            "3         104  29.0    Male        Asthma          3000.0\n",
            "4         105  54.0  Female      Diabetes          4500.0\n",
            "\n",
            "--- Identifying Missing Data ---\n",
            "\n",
            "Missing Values (per column):\n",
            " Patient_ID        0\n",
            "Age               1\n",
            "Gender            1\n",
            "Diagnosis         0\n",
            "Treatment_Cost    1\n",
            "dtype: int64\n",
            "\n",
            "Total number of missing values in DataFrame: 3\n",
            "\n",
            "--- Filling Missing Data ---\n",
            "\n",
            "Filled missing 'Age' with mean:\n",
            " 0    45.00\n",
            "1    41.25\n",
            "2    37.00\n",
            "3    29.00\n",
            "4    54.00\n",
            "Name: Age, dtype: float64\n",
            "\n",
            "Filled missing 'Gender' with mode:\n",
            " 0    Female\n",
            "1      Male\n",
            "2    Female\n",
            "3      Male\n",
            "4    Female\n",
            "Name: Gender, dtype: object\n",
            "\n",
            "Filled missing 'Treatment_Cost' with median:\n",
            " 0    5000.0\n",
            "1    7000.0\n",
            "2    4750.0\n",
            "3    3000.0\n",
            "4    4500.0\n",
            "Name: Treatment_Cost, dtype: float64\n",
            "\n",
            "DataFrame after filling missing values:\n",
            "    Patient_ID    Age  Gender     Diagnosis  Treatment_Cost\n",
            "0         101  45.00  Female      Diabetes          5000.0\n",
            "1         102  41.25    Male  Hypertension          7000.0\n",
            "2         103  37.00  Female       Healthy          4750.0\n",
            "3         104  29.00    Male        Asthma          3000.0\n",
            "4         105  54.00  Female      Diabetes          4500.0\n",
            "\n",
            "--- Removing Rows/Columns with Missing Data (Example) ---\n",
            "\n",
            "DataFrame after dropping rows with any missing values:\n",
            "    Patient_ID   Age  Gender Diagnosis  Treatment_Cost\n",
            "0         101  45.0  Female  Diabetes          5000.0\n",
            "3         104  29.0    Male    Asthma          3000.0\n",
            "4         105  54.0  Female  Diabetes          4500.0\n",
            "\n",
            "DataFrame after dropping columns with missing values:\n",
            "    Patient_ID     Diagnosis\n",
            "0         101      Diabetes\n",
            "1         102  Hypertension\n",
            "2         103       Healthy\n",
            "3         104        Asthma\n",
            "4         105      Diabetes\n",
            "\n",
            "--- Important Notes ---\n",
            "- Use 'isnull()' to detect missing values.\n",
            "- Use 'fillna()' to fill missing data (mean, median, mode, custom values).\n",
            "- Use 'dropna()' to remove rows or columns with missing values.\n",
            "- Filling strategies depend on data type and context: mean/median for numbers, mode for categories.\n"
          ]
        },
        {
          "output_type": "stream",
          "name": "stderr",
          "text": [
            "<ipython-input-18-3586342569>:31: FutureWarning: A value is trying to be set on a copy of a DataFrame or Series through chained assignment using an inplace method.\n",
            "The behavior will change in pandas 3.0. This inplace method will never work because the intermediate object on which we are setting values always behaves as a copy.\n",
            "\n",
            "For example, when doing 'df[col].method(value, inplace=True)', try using 'df.method({col: value}, inplace=True)' or df[col] = df[col].method(value) instead, to perform the operation inplace on the original object.\n",
            "\n",
            "\n",
            "  df['Age'].fillna(df['Age'].mean(), inplace=True)\n",
            "<ipython-input-18-3586342569>:35: FutureWarning: A value is trying to be set on a copy of a DataFrame or Series through chained assignment using an inplace method.\n",
            "The behavior will change in pandas 3.0. This inplace method will never work because the intermediate object on which we are setting values always behaves as a copy.\n",
            "\n",
            "For example, when doing 'df[col].method(value, inplace=True)', try using 'df.method({col: value}, inplace=True)' or df[col] = df[col].method(value) instead, to perform the operation inplace on the original object.\n",
            "\n",
            "\n",
            "  df['Gender'].fillna(df['Gender'].mode()[0], inplace=True)\n",
            "<ipython-input-18-3586342569>:39: FutureWarning: A value is trying to be set on a copy of a DataFrame or Series through chained assignment using an inplace method.\n",
            "The behavior will change in pandas 3.0. This inplace method will never work because the intermediate object on which we are setting values always behaves as a copy.\n",
            "\n",
            "For example, when doing 'df[col].method(value, inplace=True)', try using 'df.method({col: value}, inplace=True)' or df[col] = df[col].method(value) instead, to perform the operation inplace on the original object.\n",
            "\n",
            "\n",
            "  df['Treatment_Cost'].fillna(df['Treatment_Cost'].median(), inplace=True)\n"
          ]
        }
      ],
      "source": [
        "# Handling Missing Data in Pandas (Healthcare Dataset)\n",
        "\n",
        "import pandas as pd\n",
        "import numpy as np\n",
        "\n",
        "print(\"### Handling Missing Data - Healthcare Dataset ###\\n\")\n",
        "\n",
        "# Sample healthcare dataset with missing values\n",
        "data = {\n",
        "    \"Patient_ID\": [101, 102, 103, 104, 105],\n",
        "    \"Age\": [45, np.nan, 37, 29, 54],                  # Missing age for Patient 102\n",
        "    \"Gender\": [\"Female\", \"Male\", np.nan, \"Male\", \"Female\"],  # Missing gender for Patient 103\n",
        "    \"Diagnosis\": [\"Diabetes\", \"Hypertension\", \"Healthy\", \"Asthma\", \"Diabetes\"],\n",
        "    \"Treatment_Cost\": [5000, 7000, np.nan, 3000, 4500]  # Missing cost for Patient 103\n",
        "}\n",
        "\n",
        "df = pd.DataFrame(data)\n",
        "print(\"Healthcare DataFrame with Missing Values:\\n\", df)\n",
        "\n",
        "print(\"\\n--- Identifying Missing Data ---\")\n",
        "\n",
        "# Check for missing values in each column\n",
        "print(\"\\nMissing Values (per column):\\n\", df.isnull().sum())\n",
        "\n",
        "# Total numberr of missing values\n",
        "print(\"\\nTotal number of missing values in DataFrame:\", df.isnull().sum().sum())\n",
        "\n",
        "print(\"\\n--- Filling Missing Data ---\")\n",
        "\n",
        "# Filling missing numerical data with mean\n",
        "df['Age'].fillna(df['Age'].mean(), inplace=True)\n",
        "print(\"\\nFilled missing 'Age' with mean:\\n\", df['Age'])\n",
        "\n",
        "# Filling missing categorical data with mode (most frequent value)\n",
        "df['Gender'].fillna(df['Gender'].mode()[0], inplace=True)\n",
        "print(\"\\nFilled missing 'Gender' with mode:\\n\", df['Gender'])\n",
        "\n",
        "# Filling missing 'Treatment_Cost' with median (good for skewed data)\n",
        "df['Treatment_Cost'].fillna(df['Treatment_Cost'].median(), inplace=True)\n",
        "print(\"\\nFilled missing 'Treatment_Cost' with median:\\n\", df['Treatment_Cost'])\n",
        "\n",
        "print(\"\\nDataFrame after filling missing values:\\n\", df)\n",
        "\n",
        "print(\"\\n--- Removing Rows/Columns with Missing Data (Example) ---\")\n",
        "\n",
        "# (Recreate the original DataFrame to demonstrate dropna)\n",
        "df_with_na = pd.DataFrame(data)  # With missing values again for demo\n",
        "\n",
        "# Drop rows with any missing values\n",
        "dropped_rows = df_with_na.dropna()\n",
        "print(\"\\nDataFrame after dropping rows with any missing values:\\n\", dropped_rows)\n",
        "\n",
        "# Drop columns with any missing values (for larger datasets where columns may be removed)\n",
        "dropped_columns = df_with_na.dropna(axis=1)\n",
        "print(\"\\nDataFrame after dropping columns with missing values:\\n\", dropped_columns)\n",
        "\n",
        "print(\"\\n--- Important Notes ---\")\n",
        "print(\"- Use 'isnull()' to detect missing values.\")\n",
        "print(\"- Use 'fillna()' to fill missing data (mean, median, mode, custom values).\")\n",
        "print(\"- Use 'dropna()' to remove rows or columns with missing values.\")\n",
        "print(\"- Filling strategies depend on data type and context: mean/median for numbers, mode for categories.\")\n"
      ]
    },
    {
      "cell_type": "markdown",
      "metadata": {
        "id": "0-LSIn6QbGPw"
      },
      "source": [
        "### ✅  Visualizing Data\n",
        "- Creating simple visualizations such as **bar charts, scatter plots, and histograms**.\n",
        "- Using **Matplotlib and Seaborn** for quick insights.\n",
        "- Exploring distributions and trends in the dataset."
      ]
    },
    {
      "cell_type": "code",
      "execution_count": 19,
      "metadata": {
        "colab": {
          "base_uri": "https://localhost:8080/",
          "height": 1000
        },
        "id": "CMUnWuGtbGYz",
        "outputId": "8112e84a-fdbd-4807-dd34-60d7a5da612d"
      },
      "outputs": [
        {
          "output_type": "stream",
          "name": "stdout",
          "text": [
            "### Visualizing Data - Healthcare Dataset ###\n",
            "\n",
            "Healthcare DataFrame:\n",
            "    Patient_ID  Age  Gender     Diagnosis  Treatment_Cost\n",
            "0         101   45  Female      Diabetes            5000\n",
            "1         102   62    Male  Hypertension            7000\n",
            "2         103   37  Female       Healthy            1500\n",
            "3         104   29    Male        Asthma            3000\n",
            "4         105   54  Female      Diabetes            4500\n",
            "\n",
            "--- Bar Chart: Average Treatment Cost by Diagnosis ---\n"
          ]
        },
        {
          "output_type": "stream",
          "name": "stderr",
          "text": [
            "<ipython-input-19-2994084227>:28: FutureWarning: \n",
            "\n",
            "The `ci` parameter is deprecated. Use `errorbar=None` for the same effect.\n",
            "\n",
            "  sns.barplot(x='Diagnosis', y='Treatment_Cost', data=df, estimator='mean', ci=None, palette='pastel')\n",
            "<ipython-input-19-2994084227>:28: FutureWarning: \n",
            "\n",
            "Passing `palette` without assigning `hue` is deprecated and will be removed in v0.14.0. Assign the `x` variable to `hue` and set `legend=False` for the same effect.\n",
            "\n",
            "  sns.barplot(x='Diagnosis', y='Treatment_Cost', data=df, estimator='mean', ci=None, palette='pastel')\n"
          ]
        },
        {
          "output_type": "display_data",
          "data": {
            "text/plain": [
              "<Figure size 800x500 with 1 Axes>"
            ],
            "image/png": "[encoded data removed]"
          },
          "metadata": {}
        },
        {
          "output_type": "stream",
          "name": "stdout",
          "text": [
            "\n",
            "--- Scatter Plot: Age vs. Treatment Cost ---\n"
          ]
        },
        {
          "output_type": "display_data",
          "data": {
            "text/plain": [
              "<Figure size 800x500 with 1 Axes>"
            ],
            "image/png": "[encoded data removed]"
          },
          "metadata": {}
        },
        {
          "output_type": "stream",
          "name": "stdout",
          "text": [
            "\n",
            "--- Histogram: Distribution of Patient Ages ---\n"
          ]
        },
        {
          "output_type": "display_data",
          "data": {
            "text/plain": [
              "<Figure size 800x500 with 1 Axes>"
            ],
            "image/png": "[encoded data removed]"
          },
          "metadata": {}
        },
        {
          "output_type": "stream",
          "name": "stdout",
          "text": [
            "\n",
            "--- Notes ---\n",
            "- Bar charts are useful for comparing averages across categories (e.g., average cost per diagnosis).\n",
            "- Scatter plots help explore relationships and patterns between numerical variables (e.g., Age vs. Cost).\n",
            "- Histograms show the distribution and frequency of a single numeric variable (e.g., Age distribution).\n",
            "- Seaborn and Matplotlib make it easy to create publication-quality visualizations in Python.\n"
          ]
        }
      ],
      "source": [
        "# Visualizing Data in Pandas using Matplotlib and Seaborn (Healthcare Dataset)\n",
        "\n",
        "import pandas as pd\n",
        "import matplotlib.pyplot as plt\n",
        "import seaborn as sns\n",
        "\n",
        "print(\"### Visualizing Data - Healthcare Dataset ###\\n\")\n",
        "\n",
        "# Sample healthcare dataset\n",
        "data = {\n",
        "    \"Patient_ID\": [101, 102, 103, 104, 105],\n",
        "    \"Age\": [45, 62, 37, 29, 54],\n",
        "    \"Gender\": [\"Female\", \"Male\", \"Female\", \"Male\", \"Female\"],\n",
        "    \"Diagnosis\": [\"Diabetes\", \"Hypertension\", \"Healthy\", \"Asthma\", \"Diabetes\"],\n",
        "    \"Treatment_Cost\": [5000, 7000, 1500, 3000, 4500]\n",
        "}\n",
        "\n",
        "df = pd.DataFrame(data)\n",
        "print(\"Healthcare DataFrame:\\n\", df)\n",
        "\n",
        "# Set style for better visuals\n",
        "sns.set(style=\"whitegrid\")\n",
        "\n",
        "print(\"\\n--- Bar Chart: Average Treatment Cost by Diagnosis ---\")\n",
        "\n",
        "# Bar chart: Average Treatment Cost by Diagnosis\n",
        "plt.figure(figsize=(8, 5))\n",
        "sns.barplot(x='Diagnosis', y='Treatment_Cost', data=df, estimator='mean', ci=None, palette='pastel')\n",
        "plt.title('Average Treatment Cost by Diagnosis')\n",
        "plt.ylabel('Average Cost (USD)')\n",
        "plt.show()\n",
        "\n",
        "print(\"\\n--- Scatter Plot: Age vs. Treatment Cost ---\")\n",
        "# q\n",
        "# Scatter plot: Age vs. Treatment Cost\n",
        "plt.figure(figsize=(8, 5))\n",
        "sns.scatterplot(\n",
        "    x='Age',\n",
        "    y='Treatment_Cost',\n",
        "    hue='Gender',\n",
        "    style='Diagnosis',\n",
        "    s=100,\n",
        "    palette='deep',\n",
        "    data=df  # Pass the DataFrame here\n",
        ")\n",
        "plt.title('Scatter Plot of Age vs. Treatment Cost')\n",
        "plt.xlabel('Age (years)')\n",
        "plt.ylabel('Treatment Cost (USD)')\n",
        "plt.legend(bbox_to_anchor=(1.05, 1), loc='upper left')\n",
        "plt.show()\n",
        "\n",
        "\n",
        "print(\"\\n--- Histogram: Distribution of Patient Ages ---\")\n",
        "\n",
        "# Histogram: Distribution of Ages\n",
        "plt.figure(figsize=(8, 5))\n",
        "sns.histplot(df['Age'], bins=5, kde=True, color='skyblue')\n",
        "plt.title('Distribution of Patient Ages')\n",
        "plt.xlabel('Age (years)')\n",
        "plt.ylabel('Number of Patients')\n",
        "plt.show()\n",
        "\n",
        "print(\"\\n--- Notes ---\")\n",
        "print(\"- Bar charts are useful for comparing averages across categories (e.g., average cost per diagnosis).\")\n",
        "print(\"- Scatter plots help explore relationships and patterns between numerical variables (e.g., Age vs. Cost).\")\n",
        "print(\"- Histograms show the distribution and frequency of a single numeric variable (e.g., Age distribution).\")\n",
        "print(\"- Seaborn and Matplotlib make it easy to create publication-quality visualizations in Python.\")\n"
      ]
    },
    {
      "cell_type": "markdown",
      "metadata": {
        "id": "s3QVZG2IbGiP"
      },
      "source": [
        "---"
      ]
    },
    {
      "cell_type": "markdown",
      "metadata": {
        "id": "8wgnpqNmbHx5"
      },
      "source": [
        "### ✅ Applying Functions to the Entire DataFrame\n",
        "\n",
        "- Using **apply() and map()** to modify DataFrame columns efficiently.\n",
        "- Applying **lambda functions** to perform custom transformations.\n",
        "- Demonstrating **vectorized operations** for performance optimization.\n",
        "\n",
        "These techniques are essential when working with healthcare data to:\n",
        "- Categorize patients (e.g., age groups).\n",
        "- Encode categorical data (e.g., gender mapping).\n",
        "- Adjust costs based on patient attributes.\n",
        "- Apply bulk transformations efficiently."
      ]
    },
    {
      "cell_type": "code",
      "execution_count": 20,
      "metadata": {
        "colab": {
          "base_uri": "https://localhost:8080/"
        },
        "id": "DWUZ5TBybH7X",
        "outputId": "57fcc579-6377-44f6-f4cc-55de747b4b4f"
      },
      "outputs": [
        {
          "output_type": "stream",
          "name": "stdout",
          "text": [
            "### Applying Functions to DataFrame - Healthcare Dataset ###\n",
            "\n",
            "Original Healthcare DataFrame:\n",
            "    Patient_ID  Age  Gender     Diagnosis  Treatment_Cost\n",
            "0         101   45  Female      Diabetes            5000\n",
            "1         102   62    Male  Hypertension            7000\n",
            "2         103   37  Female       Healthy            1500\n",
            "3         104   29    Male        Asthma            3000\n",
            "4         105   54  Female      Diabetes            4500\n",
            "\n",
            "--- Using apply() to modify columns ---\n",
            "\n",
            "Added 'Age_Group' column based on Age:\n",
            "    Patient_ID  Age Age_Group\n",
            "0         101   45     Adult\n",
            "1         102   62    Senior\n",
            "2         103   37     Adult\n",
            "3         104   29     Adult\n",
            "4         105   54    Senior\n",
            "\n",
            "--- Using map() to transform categorical data ---\n",
            "\n",
            "Mapped 'Gender' to 'Gender_Code':\n",
            "    Patient_ID  Gender  Gender_Code\n",
            "0         101  Female            0\n",
            "1         102    Male            1\n",
            "2         103  Female            0\n",
            "3         104    Male            1\n",
            "4         105  Female            0\n",
            "\n",
            "--- Using lambda to modify multiple columns ---\n",
            "\n",
            "Adjusted Treatment Cost (10% increase if Age > 50):\n",
            "    Patient_ID  Age  Treatment_Cost  Adjusted_Cost\n",
            "0         101   45            5000         5000.0\n",
            "1         102   62            7000         7700.0\n",
            "2         103   37            1500         1500.0\n",
            "3         104   29            3000         3000.0\n",
            "4         105   54            4500         4950.0\n",
            "\n",
            "--- Vectorized Operations (Efficient Way) ---\n",
            "\n",
            "Discounted Treatment Cost (Vectorized operation):\n",
            "    Patient_ID  Treatment_Cost  Discounted_Cost\n",
            "0         101            5000             4500\n",
            "1         102            7000             6500\n",
            "2         103            1500             1000\n",
            "3         104            3000             2500\n",
            "4         105            4500             4000\n",
            "\n",
            "--- Important Notes ---\n",
            "- 'apply()' can apply functions row-wise or column-wise (use axis=1 for rows).\n",
            "- 'map()' is used for element-wise transformations, especially useful for categorical data.\n",
            "- Lambda functions allow creating quick inline functions without defining them explicitly.\n",
            "- Vectorized operations are the fastest way to perform element-wise operations on entire columns (recommended when possible).\n"
          ]
        }
      ],
      "source": [
        "import pandas as pd\n",
        "\n",
        "print(\"### Applying Functions to DataFrame - Healthcare Dataset ###\\n\")\n",
        "\n",
        "# Sample healthcare dataset\n",
        "data = {\n",
        "    \"Patient_ID\": [101, 102, 103, 104, 105],\n",
        "    \"Age\": [45, 62, 37, 29, 54],\n",
        "    \"Gender\": [\"Female\", \"Male\", \"Female\", \"Male\", \"Female\"],\n",
        "    \"Diagnosis\": [\"Diabetes\", \"Hypertension\", \"Healthy\", \"Asthma\", \"Diabetes\"],\n",
        "    \"Treatment_Cost\": [5000, 7000, 1500, 3000, 4500]\n",
        "}\n",
        "\n",
        "df = pd.DataFrame(data)\n",
        "print(\"Original Healthcare DataFrame:\\n\", df)\n",
        "\n",
        "print(\"\\n--- Using apply() to modify columns ---\")\n",
        "\n",
        "# Example: Apply a function to categorize patients as \"Senior\" if Age > 50\n",
        "df['Age_Group'] = df['Age'].apply(lambda x: 'Senior' if x > 50 else 'Adult')\n",
        "print(\"\\nAdded 'Age_Group' column based on Age:\\n\", df[['Patient_ID', 'Age', 'Age_Group']])\n",
        "\n",
        "print(\"\\n--- Using map() to transform categorical data ---\")\n",
        "\n",
        "# Example: Mapping Gender to numeric format (Female=0, Male=1)\n",
        "gender_map = {'Female': 0, 'Male': 1}\n",
        "df['Gender_Code'] = df['Gender'].map(gender_map)\n",
        "print(\"\\nMapped 'Gender' to 'Gender_Code':\\n\", df[['Patient_ID', 'Gender', 'Gender_Code']])\n",
        "\n",
        "print(\"\\n--- Using lambda to modify multiple columns ---\")\n",
        "\n",
        "# Example: Increase Treatment Cost by 10% for patients over 50\n",
        "df['Adjusted_Cost'] = df.apply(lambda row: row['Treatment_Cost'] * 1.10 if row['Age'] > 50 else row['Treatment_Cost'], axis=1)\n",
        "print(\"\\nAdjusted Treatment Cost (10% increase if Age > 50):\\n\", df[['Patient_ID', 'Age', 'Treatment_Cost', 'Adjusted_Cost']])\n",
        "\n",
        "print(\"\\n--- Vectorized Operations (Efficient Way) ---\")\n",
        "\n",
        "# Example: Apply discount of $500 to all Treatment Costs efficiently\n",
        "df['Discounted_Cost'] = df['Treatment_Cost'] - 500\n",
        "print(\"\\nDiscounted Treatment Cost (Vectorized operation):\\n\", df[['Patient_ID', 'Treatment_Cost', 'Discounted_Cost']])\n",
        "\n",
        "print(\"\\n--- Important Notes ---\")\n",
        "print(\"- 'apply()' can apply functions row-wise or column-wise (use axis=1 for rows).\")\n",
        "print(\"- 'map()' is used for element-wise transformations, especially useful for categorical data.\")\n",
        "print(\"- Lambda functions allow creating quick inline functions without defining them explicitly.\")\n",
        "print(\"- Vectorized operations are the fastest way to perform element-wise operations on entire columns (recommended when possible).\")\n"
      ]
    },
    {
      "cell_type": "markdown",
      "metadata": {
        "id": "nequLejkbIZX"
      },
      "source": [
        "### ✅ Merging & Combining DataFrames\n",
        "\n",
        "In real-world healthcare data, information often comes from **multiple sources** (e.g., patient records, treatments, diagnostics).\n",
        "\n",
        "In this section, we will learn:\n",
        "- How to **combine datasets** using `merge()`, `concat()`, and `join()`.\n",
        "- The difference between **inner, outer, left, and right joins**.\n",
        "- How to handle datasets when patients may or may not appear in both sources.\n",
        "\n",
        "These techniques are essential for building **complete and accurate** datasets for analysis and reporting.\n"
      ]
    },
    {
      "cell_type": "code",
      "execution_count": 21,
      "metadata": {
        "colab": {
          "base_uri": "https://localhost:8080/"
        },
        "id": "UC1lDs0wbIkV",
        "outputId": "7f2d3f50-f002-45d2-d517-a7f1f03a6c8a"
      },
      "outputs": [
        {
          "output_type": "stream",
          "name": "stdout",
          "text": [
            "### Merging & Combining DataFrames - Healthcare Dataset ###\n",
            "\n",
            "Patient DataFrame:\n",
            "    Patient_ID     Name  Age  Gender\n",
            "0         101    Alice   45  Female\n",
            "1         102      Bob   62    Male\n",
            "2         103  Charlie   37  Female\n",
            "3         104    David   29    Male\n",
            "4         105      Eva   54  Female\n",
            "\n",
            "Treatment DataFrame:\n",
            "    Patient_ID     Diagnosis  Treatment_Cost\n",
            "0         101      Diabetes            5000\n",
            "1         102  Hypertension            7000\n",
            "2         103       Healthy            1500\n",
            "3         106        Asthma            3500\n",
            "\n",
            "--- Merging DataFrames with merge() ---\n",
            "\n",
            "Inner Join (common patients only):\n",
            "    Patient_ID     Name  Age  Gender     Diagnosis  Treatment_Cost\n",
            "0         101    Alice   45  Female      Diabetes            5000\n",
            "1         102      Bob   62    Male  Hypertension            7000\n",
            "2         103  Charlie   37  Female       Healthy            1500\n",
            "\n",
            "Outer Join (all patients from both):\n",
            "    Patient_ID     Name   Age  Gender     Diagnosis  Treatment_Cost\n",
            "0         101    Alice  45.0  Female      Diabetes          5000.0\n",
            "1         102      Bob  62.0    Male  Hypertension          7000.0\n",
            "2         103  Charlie  37.0  Female       Healthy          1500.0\n",
            "3         104    David  29.0    Male           NaN             NaN\n",
            "4         105      Eva  54.0  Female           NaN             NaN\n",
            "5         106      NaN   NaN     NaN        Asthma          3500.0\n",
            "\n",
            "Left Join (all patients, even if no treatment):\n",
            "    Patient_ID     Name  Age  Gender     Diagnosis  Treatment_Cost\n",
            "0         101    Alice   45  Female      Diabetes          5000.0\n",
            "1         102      Bob   62    Male  Hypertension          7000.0\n",
            "2         103  Charlie   37  Female       Healthy          1500.0\n",
            "3         104    David   29    Male           NaN             NaN\n",
            "4         105      Eva   54  Female           NaN             NaN\n",
            "\n",
            "Right Join (all treated patients, even if not in patient list):\n",
            "    Patient_ID     Name   Age  Gender     Diagnosis  Treatment_Cost\n",
            "0         101    Alice  45.0  Female      Diabetes            5000\n",
            "1         102      Bob  62.0    Male  Hypertension            7000\n",
            "2         103  Charlie  37.0  Female       Healthy            1500\n",
            "3         106      NaN   NaN     NaN        Asthma            3500\n",
            "\n",
            "--- Combining DataFrames with concat() ---\n",
            "\n",
            "Concatenated Patients (original + follow-up):\n",
            "    Patient_ID     Name  Age  Gender\n",
            "0         101    Alice   45  Female\n",
            "1         102      Bob   62    Male\n",
            "2         103  Charlie   37  Female\n",
            "3         104    David   29    Male\n",
            "4         105      Eva   54  Female\n",
            "5         107    Frank   50    Male\n",
            "6         108    Grace   41  Female\n",
            "\n",
            "--- Joining DataFrames with join() ---\n",
            "\n",
            "Joined DataFrame (based on Patient_ID index):\n",
            "                Name  Age  Gender     Diagnosis  Treatment_Cost\n",
            "Patient_ID                                                    \n",
            "101           Alice   45  Female      Diabetes          5000.0\n",
            "102             Bob   62    Male  Hypertension          7000.0\n",
            "103         Charlie   37  Female       Healthy          1500.0\n",
            "104           David   29    Male           NaN             NaN\n",
            "105             Eva   54  Female           NaN             NaN\n",
            "\n",
            "--- Important Notes ---\n",
            "- 'merge()' is used for relational joins, similar to SQL joins.\n",
            "- 'concat()' stacks DataFrames vertically or horizontally.\n",
            "- 'join()' is handy when joining on index, not columns.\n",
            "- Be mindful of 'how' parameter: inner, outer, left, right.\n",
            "- Handling real-world data often requires merging from multiple sources, especially in healthcare datasets like patient records and treatments.\n"
          ]
        }
      ],
      "source": [
        "import pandas as pd\n",
        "\n",
        "print(\"### Merging & Combining DataFrames - Healthcare Dataset ###\\n\")\n",
        "\n",
        "# Sample patient information DataFrame\n",
        "df_patients = pd.DataFrame({\n",
        "    \"Patient_ID\": [101, 102, 103, 104, 105],\n",
        "    \"Name\": [\"Alice\", \"Bob\", \"Charlie\", \"David\", \"Eva\"],\n",
        "    \"Age\": [45, 62, 37, 29, 54],\n",
        "    \"Gender\": [\"Female\", \"Male\", \"Female\", \"Male\", \"Female\"]\n",
        "})\n",
        "\n",
        "# Sample diagnosis and treatment DataFrame\n",
        "df_treatments = pd.DataFrame({\n",
        "    \"Patient_ID\": [101, 102, 103, 106],  # Notice Patient_ID 106 is only here\n",
        "    \"Diagnosis\": [\"Diabetes\", \"Hypertension\", \"Healthy\", \"Asthma\"],\n",
        "    \"Treatment_Cost\": [5000, 7000, 1500, 3500]\n",
        "})\n",
        "\n",
        "# Additional DataFrame for concatenation\n",
        "df_followup = pd.DataFrame({\n",
        "    \"Patient_ID\": [107, 108],\n",
        "    \"Name\": [\"Frank\", \"Grace\"],\n",
        "    \"Age\": [50, 41],\n",
        "    \"Gender\": [\"Male\", \"Female\"]\n",
        "})\n",
        "\n",
        "print(\"Patient DataFrame:\\n\", df_patients)\n",
        "print(\"\\nTreatment DataFrame:\\n\", df_treatments)\n",
        "\n",
        "print(\"\\n--- Merging DataFrames with merge() ---\")\n",
        "\n",
        "# Inner Join: Only patients who appear in both DataFrames\n",
        "inner_merged = pd.merge(df_patients, df_treatments, on='Patient_ID', how='inner')\n",
        "print(\"\\nInner Join (common patients only):\\n\", inner_merged)\n",
        "\n",
        "# Outer Join: All patients from both DataFrames, missing values filled with NaN\n",
        "outer_merged = pd.merge(df_patients, df_treatments, on='Patient_ID', how='outer')\n",
        "print(\"\\nOuter Join (all patients from both):\\n\", outer_merged)\n",
        "\n",
        "# Left Join: All patients from df_patients, matched data from df_treatments\n",
        "left_merged = pd.merge(df_patients, df_treatments, on='Patient_ID', how='left')\n",
        "print(\"\\nLeft Join (all patients, even if no treatment):\\n\", left_merged)\n",
        "\n",
        "# Right Join: All patients from df_treatments, matched data from df_patients\n",
        "right_merged = pd.merge(df_patients, df_treatments, on='Patient_ID', how='right')\n",
        "print(\"\\nRight Join (all treated patients, even if not in patient list):\\n\", right_merged)\n",
        "\n",
        "print(\"\\n--- Combining DataFrames with concat() ---\")\n",
        "\n",
        "# Concatenating patients and follow-up patients (vertical stack)\n",
        "combined_patients = pd.concat([df_patients, df_followup], ignore_index=True)\n",
        "print(\"\\nConcatenated Patients (original + follow-up):\\n\", combined_patients)\n",
        "\n",
        "print(\"\\n--- Joining DataFrames with join() ---\")\n",
        "\n",
        "# Example with DataFrames sharing the same index (must set index first)\n",
        "df_left = df_patients.set_index('Patient_ID')\n",
        "df_right = df_treatments.set_index('Patient_ID')\n",
        "\n",
        "# Join: Left join on index\n",
        "joined_df = df_left.join(df_right, how='left')\n",
        "print(\"\\nJoined DataFrame (based on Patient_ID index):\\n\", joined_df)\n",
        "\n",
        "print(\"\\n--- Important Notes ---\")\n",
        "print(\"- 'merge()' is used for relational joins, similar to SQL joins.\")\n",
        "print(\"- 'concat()' stacks DataFrames vertically or horizontally.\")\n",
        "print(\"- 'join()' is handy when joining on index, not columns.\")\n",
        "print(\"- Be mindful of 'how' parameter: inner, outer, left, right.\")\n",
        "print(\"- Handling real-world data often requires merging from multiple sources, especially in healthcare datasets like patient records and treatments.\")\n"
      ]
    },
    {
      "cell_type": "markdown",
      "metadata": {
        "id": "BkWgRQA8b596"
      },
      "source": [
        "### ✅ Detecting & Handling Duplicates\n",
        "- Identifying duplicate rows.\n",
        "- Removing unnecessary duplicates.\n",
        "- Cleaning inconsistencies in real-world datasets."
      ]
    },
    {
      "cell_type": "code",
      "execution_count": 22,
      "metadata": {
        "colab": {
          "base_uri": "https://localhost:8080/"
        },
        "id": "Kp7okwtRb6Hi",
        "outputId": "7c8ed26d-7654-4d03-9a26-c3753f54388f"
      },
      "outputs": [
        {
          "output_type": "stream",
          "name": "stdout",
          "text": [
            "### Detecting & Handling Duplicates - Healthcare Dataset ###\n",
            "\n",
            "Healthcare DataFrame with Duplicates:\n",
            "    Patient_ID     Name  Age  Gender     Diagnosis  Treatment_Cost\n",
            "0         101    Alice   45  Female      Diabetes            5000\n",
            "1         102      Bob   62    Male  Hypertension            7000\n",
            "2         103  Charlie   37  Female       Healthy            1500\n",
            "3         104    David   29    Male        Asthma            3000\n",
            "4         105      Eva   54  Female      Diabetes            4500\n",
            "5         102      Bob   62    Male  Hypertension            7000\n",
            "6         105      Eva   54  Female      Diabetes            4500\n",
            "\n",
            "--- Identifying Duplicates ---\n",
            "\n",
            "Duplicate Rows (True indicates duplicate):\n",
            " 0    False\n",
            "1     True\n",
            "2    False\n",
            "3    False\n",
            "4     True\n",
            "5     True\n",
            "6     True\n",
            "dtype: bool\n",
            "\n",
            "Duplicate Rows (First occurrence kept, subsequent marked duplicate):\n",
            "    Patient_ID Name  Age  Gender     Diagnosis  Treatment_Cost\n",
            "5         102  Bob   62    Male  Hypertension            7000\n",
            "6         105  Eva   54  Female      Diabetes            4500\n",
            "\n",
            "--- Removing Duplicates ---\n",
            "\n",
            "DataFrame after removing exact duplicates:\n",
            "    Patient_ID     Name  Age  Gender     Diagnosis  Treatment_Cost\n",
            "0         101    Alice   45  Female      Diabetes            5000\n",
            "1         102      Bob   62    Male  Hypertension            7000\n",
            "2         103  Charlie   37  Female       Healthy            1500\n",
            "3         104    David   29    Male        Asthma            3000\n",
            "4         105      Eva   54  Female      Diabetes            4500\n",
            "\n",
            "DataFrame with unique Patient_ID (first occurrence kept):\n",
            "    Patient_ID     Name  Age  Gender     Diagnosis  Treatment_Cost\n",
            "0         101    Alice   45  Female      Diabetes            5000\n",
            "1         102      Bob   62    Male  Hypertension            7000\n",
            "2         103  Charlie   37  Female       Healthy            1500\n",
            "3         104    David   29    Male        Asthma            3000\n",
            "4         105      Eva   54  Female      Diabetes            4500\n",
            "\n",
            "--- Handling Inconsistencies ---\n",
            "\n",
            "Patients with inconsistent Diagnoses (more than one unique diagnosis):\n",
            " Empty DataFrame\n",
            "Columns: [Diagnosis]\n",
            "Index: []\n",
            "\n",
            "--- Important Notes ---\n",
            "- 'duplicated()' identifies duplicate rows. Use 'keep=False' to mark all duplicates.\n",
            "- 'drop_duplicates()' removes duplicate rows; 'subset' can limit check to specific columns.\n",
            "- 'groupby' with 'nunique' can help detect inconsistencies in important columns like diagnosis for the same patient.\n",
            "- In real-world healthcare datasets, cleaning duplicates ensures accurate patient records and analyses.\n"
          ]
        }
      ],
      "source": [
        "import pandas as pd\n",
        "\n",
        "print(\"### Detecting & Handling Duplicates - Healthcare Dataset ###\\n\")\n",
        "\n",
        "# Sample healthcare dataset with intentional duplicate rows\n",
        "data = {\n",
        "    \"Patient_ID\": [101, 102, 103, 104, 105, 102, 105],  # Duplicate IDs 102, 105\n",
        "    \"Name\": [\"Alice\", \"Bob\", \"Charlie\", \"David\", \"Eva\", \"Bob\", \"Eva\"],  # Duplicate names matching Patient_IDs\n",
        "    \"Age\": [45, 62, 37, 29, 54, 62, 54],  # Consistent with Patient_ID duplicates\n",
        "    \"Gender\": [\"Female\", \"Male\", \"Female\", \"Male\", \"Female\", \"Male\", \"Female\"],\n",
        "    \"Diagnosis\": [\"Diabetes\", \"Hypertension\", \"Healthy\", \"Asthma\", \"Diabetes\", \"Hypertension\", \"Diabetes\"],\n",
        "    \"Treatment_Cost\": [5000, 7000, 1500, 3000, 4500, 7000, 4500]\n",
        "}\n",
        "\n",
        "# Create DataFrame\n",
        "df = pd.DataFrame(data)\n",
        "print(\"Healthcare DataFrame with Duplicates:\\n\", df)\n",
        "\n",
        "print(\"\\n--- Identifying Duplicates ---\")\n",
        "\n",
        "# Detect all duplicate rows\n",
        "duplicates = df.duplicated(keep=False)  # Shows all duplicates (keep=False keeps all instances)\n",
        "print(\"\\nDuplicate Rows (True indicates duplicate):\\n\", duplicates)\n",
        "\n",
        "# Detect duplicates considering all columns\n",
        "duplicate_rows = df[df.duplicated()]\n",
        "print(\"\\nDuplicate Rows (First occurrence kept, subsequent marked duplicate):\\n\", duplicate_rows)\n",
        "\n",
        "print(\"\\n--- Removing Duplicates ---\")\n",
        "\n",
        "# Remove exact duplicate rows, keeping the first occurrence\n",
        "df_no_duplicates = df.drop_duplicates()\n",
        "print(\"\\nDataFrame after removing exact duplicates:\\n\", df_no_duplicates)\n",
        "\n",
        "# Remove duplicates based on a specific column (e.g., Patient_ID), keeping the first occurrence\n",
        "df_unique_patients = df.drop_duplicates(subset=['Patient_ID'], keep='first')\n",
        "print(\"\\nDataFrame with unique Patient_ID (first occurrence kept):\\n\", df_unique_patients)\n",
        "\n",
        "print(\"\\n--- Handling Inconsistencies ---\")\n",
        "\n",
        "# Example: Detect inconsistent entries (e.g., same Patient_ID but different Diagnosis)\n",
        "inconsistent_patients = df.groupby('Patient_ID').agg({'Diagnosis': pd.Series.nunique})\n",
        "inconsistent_patients = inconsistent_patients[inconsistent_patients['Diagnosis'] > 1]\n",
        "print(\"\\nPatients with inconsistent Diagnoses (more than one unique diagnosis):\\n\", inconsistent_patients)\n",
        "\n",
        "print(\"\\n--- Important Notes ---\")\n",
        "print(\"- 'duplicated()' identifies duplicate rows. Use 'keep=False' to mark all duplicates.\")\n",
        "print(\"- 'drop_duplicates()' removes duplicate rows; 'subset' can limit check to specific columns.\")\n",
        "print(\"- 'groupby' with 'nunique' can help detect inconsistencies in important columns like diagnosis for the same patient.\")\n",
        "print(\"- In real-world healthcare datasets, cleaning duplicates ensures accurate patient records and analyses.\")\n"
      ]
    },
    {
      "cell_type": "markdown",
      "metadata": {
        "id": "e09SnWPfb7CN"
      },
      "source": [
        "### ✅ Correlation & Feature Relationships**\n",
        "In this section, we will:\n",
        "- **Compute correlations** between numerical columns to identify relationships.\n",
        "- **Visualize correlations** using a heatmap for better interpretation.\n",
        "- **Discuss implications** for feature engineering in machine learning.\n"
      ]
    },
    {
      "cell_type": "code",
      "execution_count": 23,
      "metadata": {
        "colab": {
          "base_uri": "https://localhost:8080/",
          "height": 1000
        },
        "id": "KJgLorJob7KE",
        "outputId": "518fb14b-89c5-4599-c35b-a6671c2f7f28"
      },
      "outputs": [
        {
          "output_type": "stream",
          "name": "stdout",
          "text": [
            "### Correlation & Feature Relationships - Healthcare Dataset ###\n",
            "\n",
            "Healthcare DataFrame:\n",
            "    Patient_ID  Age  Treatment_Cost  Hospital_Stay_Days\n",
            "0         101   45            5000                   5\n",
            "1         102   62            7000                   7\n",
            "2         103   37            1500                   2\n",
            "3         104   29            3000                   3\n",
            "4         105   54            4500                   4\n",
            "\n",
            "--- Computing Correlations ---\n",
            "\n",
            "Correlation Matrix:\n",
            "                     Patient_ID       Age  Treatment_Cost  Hospital_Stay_Days\n",
            "Patient_ID            1.000000 -0.180684       -0.380143           -0.493197\n",
            "Age                  -0.180684  1.000000        0.834301            0.817855\n",
            "Treatment_Cost       -0.380143  0.834301        1.000000            0.987423\n",
            "Hospital_Stay_Days   -0.493197  0.817855        0.987423            1.000000\n",
            "\n",
            "--- Visualizing Correlation Matrix with Heatmap ---\n"
          ]
        },
        {
          "output_type": "display_data",
          "data": {
            "text/plain": [
              "<Figure size 800x600 with 2 Axes>"
            ],
            "image/png": "[encoded data removed]"
          },
          "metadata": {}
        },
        {
          "output_type": "stream",
          "name": "stdout",
          "text": [
            "\n",
            "--- Insights for Feature Engineering ---\n",
            "- High correlation between features may indicate redundancy.\n",
            "- Weak correlations can highlight unrelated features, which may not be useful for predictive models.\n",
            "- Understanding feature relationships helps in selecting relevant variables for machine learning models.\n",
            "- For example, if 'Age' and 'Treatment_Cost' are highly correlated, they may represent similar underlying patterns.\n"
          ]
        }
      ],
      "source": [
        "import pandas as pd\n",
        "import seaborn as sns\n",
        "import matplotlib.pyplot as plt\n",
        "\n",
        "print(\"### Correlation & Feature Relationships - Healthcare Dataset ###\\n\")\n",
        "\n",
        "# Sample healthcare dataset\n",
        "data = {\n",
        "    \"Patient_ID\": [101, 102, 103, 104, 105],\n",
        "    \"Age\": [45, 62, 37, 29, 54],\n",
        "    \"Treatment_Cost\": [5000, 7000, 1500, 3000, 4500],\n",
        "    \"Hospital_Stay_Days\": [5, 7, 2, 3, 4]\n",
        "}\n",
        "\n",
        "# Create DataFrame\n",
        "df = pd.DataFrame(data)\n",
        "print(\"Healthcare DataFrame:\\n\", df)\n",
        "\n",
        "print(\"\\n--- Computing Correlations ---\")\n",
        "\n",
        "# Correlation matrix for numerical columns\n",
        "correlation_matrix = df.corr()\n",
        "print(\"\\nCorrelation Matrix:\\n\", correlation_matrix)\n",
        "\n",
        "print(\"\\n--- Visualizing Correlation Matrix with Heatmap ---\")\n",
        "\n",
        "# Heatmap to visualize correlations\n",
        "plt.figure(figsize=(8, 6))\n",
        "sns.heatmap(correlation_matrix, annot=True, cmap='coolwarm', center=0, linewidths=0.5, linecolor='black', square=True)\n",
        "plt.title('Correlation Heatmap: Numerical Features in Healthcare Data')\n",
        "plt.show()\n",
        "\n",
        "print(\"\\n--- Insights for Feature Engineering ---\")\n",
        "print(\"- High correlation between features may indicate redundancy.\")\n",
        "print(\"- Weak correlations can highlight unrelated features, which may not be useful for predictive models.\")\n",
        "print(\"- Understanding feature relationships helps in selecting relevant variables for machine learning models.\")\n",
        "print(\"- For example, if 'Age' and 'Treatment_Cost' are highly correlated, they may represent similar underlying patterns.\")\n"
      ]
    },
    {
      "cell_type": "markdown",
      "metadata": {
        "id": "1rJTyDOzpywC"
      },
      "source": [
        "### ✅ Removing Highly Correlated Features Before ML Modeling\n",
        "\n",
        "Highly correlated features can cause redundancy in machine learning models, leading to overfitting and poor generalization. In this section, we will:\n",
        "\n",
        "- **Compute correlations** and identify highly correlated pairs.\n",
        "- **Remove one of the features** from each correlated pair to simplify the feature set.\n",
        "- Prepare a **cleaner dataset** for machine learning.\n",
        "\n",
        "This step is critical in feature engineering and improves model robustness.\n"
      ]
    },
    {
      "cell_type": "code",
      "execution_count": 24,
      "metadata": {
        "colab": {
          "base_uri": "https://localhost:8080/"
        },
        "id": "iZdVuJbmp0CA",
        "outputId": "4f13e28d-fc9d-4cfe-cfd7-e30b4059fb09"
      },
      "outputs": [
        {
          "output_type": "stream",
          "name": "stdout",
          "text": [
            "### Removing Highly Correlated Features Before ML Modeling ###\n",
            "\n",
            "Original Features:\n",
            "    Age  Treatment_Cost  Hospital_Stay_Days\n",
            "0   45            5000                   5\n",
            "1   62            7000                   7\n",
            "2   37            1500                   2\n",
            "3   29            3000                   3\n",
            "4   54            4500                   4\n",
            "\n",
            "--- Computing Correlation Matrix ---\n",
            "\n",
            "Absolute Correlation Matrix:\n",
            "                          Age  Treatment_Cost  Hospital_Stay_Days\n",
            "Age                 1.000000        0.834301            0.817855\n",
            "Treatment_Cost      0.834301        1.000000            0.987423\n",
            "Hospital_Stay_Days  0.817855        0.987423            1.000000\n",
            "\n",
            "--- Identifying Highly Correlated Features ---\n",
            "\n",
            "Features to drop (correlation > 0.8): ['Treatment_Cost', 'Hospital_Stay_Days']\n",
            "\n",
            "Features after removing highly correlated columns:\n",
            "    Age\n",
            "0   45\n",
            "1   62\n",
            "2   37\n",
            "3   29\n",
            "4   54\n",
            "\n",
            "--- Important Notes ---\n",
            "- Highly correlated features may provide redundant information to ML models.\n",
            "- Removing them helps reduce overfitting and improves model generalization.\n",
            "- Correlation threshold (e.g., 0.8) can be adjusted as needed.\n",
            "- Always combine statistical analysis with domain expertise when selecting features.\n"
          ]
        }
      ],
      "source": [
        "import pandas as pd\n",
        "import numpy as np  # Correct way to import NumPy\n",
        "\n",
        "print(\"### Removing Highly Correlated Features Before ML Modeling ###\\n\")\n",
        "\n",
        "# Sample healthcare dataset\n",
        "data = {\n",
        "    \"Patient_ID\": [101, 102, 103, 104, 105],\n",
        "    \"Age\": [45, 62, 37, 29, 54],\n",
        "    \"Treatment_Cost\": [5000, 7000, 1500, 3000, 4500],\n",
        "    \"Hospital_Stay_Days\": [5, 7, 2, 3, 4]\n",
        "}\n",
        "\n",
        "# Create DataFrame\n",
        "df = pd.DataFrame(data)\n",
        "\n",
        "# Drop Patient_ID since it's an identifier, not a feature\n",
        "df_features = df.drop(columns=['Patient_ID'])\n",
        "\n",
        "print(\"Original Features:\\n\", df_features)\n",
        "\n",
        "print(\"\\n--- Computing Correlation Matrix ---\")\n",
        "correlation_matrix = df_features.corr().abs()  # Get absolute correlation values\n",
        "print(\"\\nAbsolute Correlation Matrix:\\n\", correlation_matrix)\n",
        "\n",
        "print(\"\\n--- Identifying Highly Correlated Features ---\")\n",
        "\n",
        "# Select upper triangle of correlation matrix (to avoid duplicate checks)\n",
        "upper = correlation_matrix.where(\n",
        "    np.triu(np.ones(correlation_matrix.shape), k=1).astype(bool)\n",
        ")\n",
        "\n",
        "# Set correlation threshold (e.g., 0.8)\n",
        "threshold = 0.8\n",
        "\n",
        "# Find columns with correlation higher than threshold\n",
        "to_drop = [column for column in upper.columns if any(upper[column] > threshold)]\n",
        "print(f\"\\nFeatures to drop (correlation > {threshold}): {to_drop}\")\n",
        "\n",
        "# Drop highly correlated columns\n",
        "df_reduced = df_features.drop(columns=to_drop)\n",
        "print(\"\\nFeatures after removing highly correlated columns:\\n\", df_reduced)\n",
        "\n",
        "print(\"\\n--- Important Notes ---\")\n",
        "print(\"- Highly correlated features may provide redundant information to ML models.\")\n",
        "print(\"- Removing them helps reduce overfitting and improves model generalization.\")\n",
        "print(\"- Correlation threshold (e.g., 0.8) can be adjusted as needed.\")\n",
        "print(\"- Always combine statistical analysis with domain expertise when selecting features.\")\n"
      ]
    },
    {
      "cell_type": "markdown",
      "metadata": {
        "id": "FGkoLfVusl0h"
      },
      "source": [
        "# 🎓 Keep Learning and Exploring!\n",
        "\n",
        "Congratulations on completing this introduction to **Python, NumPy, and Pandas**! 🎉  \n",
        "You’ve taken an important step toward mastering **data analysis and scientific computing** in Python.\n",
        "\n",
        "\n",
        "\n",
        "## 🚀 **What’s Next?**\n",
        "\n",
        "- **Practice**: Keep experimenting with Python, NumPy, and Pandas on real datasets.\n",
        "- **Explore More Libraries**: Look into **Matplotlib, Seaborn, Scikit-learn**, and **TensorFlow** to extend your skills.\n",
        "- **Challenge Yourself**: Try solving real-world problems, like analyzing public datasets (e.g., healthcare, finance, sports).\n",
        "- **Build Projects**: Create small projects such as data visualizations, statistical reports, or simple ML models.\n",
        "\n",
        "\n",
        "\n",
        "### 🚀 **Happy Learning!**\n"
      ]
    }
  ],
  "metadata": {
    "colab": {
      "provenance": [],
      "include_colab_link": true
    },
    "kernelspec": {
      "display_name": "Python 3 (ipykernel)",
      "language": "python",
      "name": "python3"
    },
    "language_info": {
      "codemirror_mode": {
        "name": "ipython",
        "version": 3
      },
      "file_extension": ".py",
      "mimetype": "text/x-python",
      "name": "python",
      "nbconvert_exporter": "python",
      "pygments_lexer": "ipython3",
      "version": "3.13.4"
    }
  },
  "nbformat": 4,
  "nbformat_minor": 0
}